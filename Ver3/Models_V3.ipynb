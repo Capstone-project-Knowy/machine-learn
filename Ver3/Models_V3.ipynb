{
  "nbformat": 4,
  "nbformat_minor": 0,
  "metadata": {
    "colab": {
      "provenance": [],
      "gpuType": "T4"
    },
    "kernelspec": {
      "name": "python3",
      "display_name": "Python 3"
    },
    "language_info": {
      "name": "python"
    },
    "accelerator": "GPU"
  },
  "cells": [
    {
      "cell_type": "markdown",
      "source": [
        "# ***Clustering Models for kNowy***"
      ],
      "metadata": {
        "id": "uZWAikqdI5aR"
      }
    },
    {
      "cell_type": "markdown",
      "source": [
        "# Setting the environment"
      ],
      "metadata": {
        "id": "0COQQSESI-YJ"
      }
    },
    {
      "cell_type": "code",
      "execution_count": null,
      "metadata": {
        "colab": {
          "base_uri": "https://localhost:8080/"
        },
        "id": "_UONXa4PI44B",
        "outputId": "60b6b3dd-40c8-4098-d8bb-e7c0f0de68c9"
      },
      "outputs": [
        {
          "output_type": "stream",
          "name": "stdout",
          "text": [
            "Collecting tensorflow-model-optimization\n",
            "  Downloading tensorflow_model_optimization-0.8.0-py2.py3-none-any.whl (242 kB)\n",
            "\u001b[2K     \u001b[90m━━━━━━━━━━━━━━━━━━━━━━━━━━━━━━━━━━━━━━━━\u001b[0m \u001b[32m242.5/242.5 kB\u001b[0m \u001b[31m2.4 MB/s\u001b[0m eta \u001b[36m0:00:00\u001b[0m\n",
            "\u001b[?25hRequirement already satisfied: absl-py~=1.2 in /usr/local/lib/python3.10/dist-packages (from tensorflow-model-optimization) (1.4.0)\n",
            "Requirement already satisfied: dm-tree~=0.1.1 in /usr/local/lib/python3.10/dist-packages (from tensorflow-model-optimization) (0.1.8)\n",
            "Requirement already satisfied: numpy~=1.23 in /usr/local/lib/python3.10/dist-packages (from tensorflow-model-optimization) (1.25.2)\n",
            "Requirement already satisfied: six~=1.14 in /usr/local/lib/python3.10/dist-packages (from tensorflow-model-optimization) (1.16.0)\n",
            "Installing collected packages: tensorflow-model-optimization\n",
            "Successfully installed tensorflow-model-optimization-0.8.0\n"
          ]
        }
      ],
      "source": [
        "!pip install tensorflow-model-optimization"
      ]
    },
    {
      "cell_type": "code",
      "source": [
        "import numpy as np\n",
        "import pandas as pd\n",
        "import tensorflow as tf\n",
        "from tensorflow import keras\n",
        "from tensorflow.keras import layers\n",
        "from sklearn.preprocessing import StandardScaler\n",
        "from sklearn.cluster import KMeans\n",
        "from sklearn.metrics import adjusted_rand_score"
      ],
      "metadata": {
        "id": "srZQUNBVJEgZ"
      },
      "execution_count": null,
      "outputs": []
    },
    {
      "cell_type": "markdown",
      "source": [
        "# Read the data"
      ],
      "metadata": {
        "id": "l7Mo-TsVJRCa"
      }
    },
    {
      "cell_type": "code",
      "source": [
        "data = pd.read_csv('Data_final.csv')\n",
        "\n",
        "x = data.drop(columns=['Career'])\n",
        "y = data['Career']"
      ],
      "metadata": {
        "id": "RPDjIvpjJY0h"
      },
      "execution_count": null,
      "outputs": []
    },
    {
      "cell_type": "markdown",
      "source": [
        "# Standardize the data using StandardScaler"
      ],
      "metadata": {
        "id": "AnFCcutDJeVy"
      }
    },
    {
      "cell_type": "code",
      "source": [
        "scaler = StandardScaler()\n",
        "x_scaled = scaler.fit_transform(x)"
      ],
      "metadata": {
        "id": "y8_BY8SJJeJ4"
      },
      "execution_count": null,
      "outputs": []
    },
    {
      "cell_type": "markdown",
      "source": [
        "# Creating AutoEncoder Models"
      ],
      "metadata": {
        "id": "DzqgVVwNJmux"
      }
    },
    {
      "cell_type": "code",
      "source": [
        "input_shape = (10,)\n",
        "inputs = keras.Input(shape=input_shape)\n",
        "x = layers.Reshape((10, 1))(inputs)  # reshape input to (10, 1)\n",
        "x = layers.Conv1D(32, kernel_size=3, activation='relu')(x)  # 1D convol\"utional layer\n",
        "x = layers.MaxPooling1D(pool_size=2)(x)  # max pooling layer\n",
        "x = layers.Flatten()(x)  # flatten output\n",
        "x = layers.Dense(64, activation='relu')(x)  # dense layer\n",
        "outputs = layers.Dense(10, activation='linear')(x)  # output layer for reconstruction"
      ],
      "metadata": {
        "id": "lifMJbmsJd-I"
      },
      "execution_count": null,
      "outputs": []
    },
    {
      "cell_type": "markdown",
      "source": [
        "# Create Costum Clustering Layer"
      ],
      "metadata": {
        "id": "v7O7Pqy7JzEV"
      }
    },
    {
      "cell_type": "code",
      "source": [
        "class ClusteringLayer(keras.layers.Layer):\n",
        "    def __init__(self, number_of_clusters=10, **kwargs):\n",
        "        super(ClusteringLayer, self).__init__(**kwargs)\n",
        "        self.number_of_clusters = number_of_clusters\n",
        "\n",
        "    def build(self, input_shape):\n",
        "        self.clusters = self.add_weight(shape=(input_shape[-1], self.number_of_clusters),\n",
        "                                         initializer='glorot_uniform',\n",
        "                                         trainable=True,\n",
        "                                         name='clusters')\n",
        "\n",
        "    def call(self, inputs):\n",
        "        return tf.matmul(inputs, self.clusters)"
      ],
      "metadata": {
        "id": "3NwwLZDpJmcB"
      },
      "execution_count": null,
      "outputs": []
    },
    {
      "cell_type": "markdown",
      "source": [
        "# Apply Weight Clustering"
      ],
      "metadata": {
        "id": "C-0YG9hUJ8WR"
      }
    },
    {
      "cell_type": "code",
      "source": [
        "number_of_clusters = 10\n",
        "clustering_layer = ClusteringLayer(number_of_clusters)\n",
        "clustered_output = clustering_layer(outputs)"
      ],
      "metadata": {
        "id": "oG06kcSUJmTB"
      },
      "execution_count": null,
      "outputs": []
    },
    {
      "cell_type": "markdown",
      "source": [
        "# Compile and Training the models"
      ],
      "metadata": {
        "id": "aHjIXRYhKFSy"
      }
    },
    {
      "cell_type": "code",
      "source": [
        "from tensorflow.keras.losses import MeanSquaredError\n",
        "\n",
        "model = keras.Model(inputs=inputs, outputs=outputs)\n",
        "model.compile(loss=MeanSquaredError(), optimizer='adam', metrics=['accuracy'])\n",
        "\n",
        "model.fit(x_scaled, x_scaled, epochs=50, batch_size=16, shuffle=True, verbose=2)"
      ],
      "metadata": {
        "colab": {
          "base_uri": "https://localhost:8080/"
        },
        "id": "f_F5-Wd2J7pq",
        "outputId": "ca623347-6491-42a9-d483-0b68586b9b85"
      },
      "execution_count": null,
      "outputs": [
        {
          "output_type": "stream",
          "name": "stdout",
          "text": [
            "Epoch 1/50\n",
            "7/7 - 3s - 403ms/step - accuracy: 0.2952 - loss: 0.9120\n",
            "Epoch 2/50\n",
            "7/7 - 0s - 4ms/step - accuracy: 0.4095 - loss: 0.7220\n",
            "Epoch 3/50\n",
            "7/7 - 0s - 4ms/step - accuracy: 0.4571 - loss: 0.5698\n",
            "Epoch 4/50\n",
            "7/7 - 0s - 5ms/step - accuracy: 0.5143 - loss: 0.4424\n",
            "Epoch 5/50\n",
            "7/7 - 0s - 5ms/step - accuracy: 0.6190 - loss: 0.3527\n",
            "Epoch 6/50\n",
            "7/7 - 0s - 8ms/step - accuracy: 0.6952 - loss: 0.2920\n",
            "Epoch 7/50\n",
            "7/7 - 0s - 5ms/step - accuracy: 0.7238 - loss: 0.2542\n",
            "Epoch 8/50\n",
            "7/7 - 0s - 5ms/step - accuracy: 0.7143 - loss: 0.2257\n",
            "Epoch 9/50\n",
            "7/7 - 0s - 5ms/step - accuracy: 0.7333 - loss: 0.2034\n",
            "Epoch 10/50\n",
            "7/7 - 0s - 5ms/step - accuracy: 0.7333 - loss: 0.1860\n",
            "Epoch 11/50\n",
            "7/7 - 0s - 8ms/step - accuracy: 0.7238 - loss: 0.1719\n",
            "Epoch 12/50\n",
            "7/7 - 0s - 5ms/step - accuracy: 0.7524 - loss: 0.1595\n",
            "Epoch 13/50\n",
            "7/7 - 0s - 8ms/step - accuracy: 0.8000 - loss: 0.1477\n",
            "Epoch 14/50\n",
            "7/7 - 0s - 8ms/step - accuracy: 0.8095 - loss: 0.1388\n",
            "Epoch 15/50\n",
            "7/7 - 0s - 8ms/step - accuracy: 0.8381 - loss: 0.1307\n",
            "Epoch 16/50\n",
            "7/7 - 0s - 4ms/step - accuracy: 0.8095 - loss: 0.1244\n",
            "Epoch 17/50\n",
            "7/7 - 0s - 8ms/step - accuracy: 0.8476 - loss: 0.1173\n",
            "Epoch 18/50\n",
            "7/7 - 0s - 8ms/step - accuracy: 0.8476 - loss: 0.1087\n",
            "Epoch 19/50\n",
            "7/7 - 0s - 8ms/step - accuracy: 0.8381 - loss: 0.1035\n",
            "Epoch 20/50\n",
            "7/7 - 0s - 8ms/step - accuracy: 0.8571 - loss: 0.0984\n",
            "Epoch 21/50\n",
            "7/7 - 0s - 5ms/step - accuracy: 0.8476 - loss: 0.0943\n",
            "Epoch 22/50\n",
            "7/7 - 0s - 8ms/step - accuracy: 0.8762 - loss: 0.0875\n",
            "Epoch 23/50\n",
            "7/7 - 0s - 8ms/step - accuracy: 0.8476 - loss: 0.0843\n",
            "Epoch 24/50\n",
            "7/7 - 0s - 6ms/step - accuracy: 0.8476 - loss: 0.0803\n",
            "Epoch 25/50\n",
            "7/7 - 0s - 5ms/step - accuracy: 0.8571 - loss: 0.0756\n",
            "Epoch 26/50\n",
            "7/7 - 0s - 8ms/step - accuracy: 0.8762 - loss: 0.0720\n",
            "Epoch 27/50\n",
            "7/7 - 0s - 7ms/step - accuracy: 0.9048 - loss: 0.0680\n",
            "Epoch 28/50\n",
            "7/7 - 0s - 4ms/step - accuracy: 0.8952 - loss: 0.0654\n",
            "Epoch 29/50\n",
            "7/7 - 0s - 5ms/step - accuracy: 0.9143 - loss: 0.0618\n",
            "Epoch 30/50\n",
            "7/7 - 0s - 5ms/step - accuracy: 0.9143 - loss: 0.0590\n",
            "Epoch 31/50\n",
            "7/7 - 0s - 8ms/step - accuracy: 0.9143 - loss: 0.0562\n",
            "Epoch 32/50\n",
            "7/7 - 0s - 8ms/step - accuracy: 0.9143 - loss: 0.0530\n",
            "Epoch 33/50\n",
            "7/7 - 0s - 8ms/step - accuracy: 0.9143 - loss: 0.0512\n",
            "Epoch 34/50\n",
            "7/7 - 0s - 8ms/step - accuracy: 0.9238 - loss: 0.0488\n",
            "Epoch 35/50\n",
            "7/7 - 0s - 4ms/step - accuracy: 0.9143 - loss: 0.0471\n",
            "Epoch 36/50\n",
            "7/7 - 0s - 9ms/step - accuracy: 0.9238 - loss: 0.0439\n",
            "Epoch 37/50\n",
            "7/7 - 0s - 5ms/step - accuracy: 0.9143 - loss: 0.0428\n",
            "Epoch 38/50\n",
            "7/7 - 0s - 4ms/step - accuracy: 0.9238 - loss: 0.0406\n",
            "Epoch 39/50\n",
            "7/7 - 0s - 6ms/step - accuracy: 0.9238 - loss: 0.0388\n",
            "Epoch 40/50\n",
            "7/7 - 0s - 4ms/step - accuracy: 0.9524 - loss: 0.0377\n",
            "Epoch 41/50\n",
            "7/7 - 0s - 5ms/step - accuracy: 0.9238 - loss: 0.0360\n",
            "Epoch 42/50\n",
            "7/7 - 0s - 9ms/step - accuracy: 0.9333 - loss: 0.0346\n",
            "Epoch 43/50\n",
            "7/7 - 0s - 4ms/step - accuracy: 0.9429 - loss: 0.0333\n",
            "Epoch 44/50\n",
            "7/7 - 0s - 5ms/step - accuracy: 0.9429 - loss: 0.0320\n",
            "Epoch 45/50\n",
            "7/7 - 0s - 8ms/step - accuracy: 0.9333 - loss: 0.0299\n",
            "Epoch 46/50\n",
            "7/7 - 0s - 8ms/step - accuracy: 0.9333 - loss: 0.0289\n",
            "Epoch 47/50\n",
            "7/7 - 0s - 5ms/step - accuracy: 0.9429 - loss: 0.0279\n",
            "Epoch 48/50\n",
            "7/7 - 0s - 5ms/step - accuracy: 0.9333 - loss: 0.0275\n",
            "Epoch 49/50\n",
            "7/7 - 0s - 8ms/step - accuracy: 0.9333 - loss: 0.0263\n",
            "Epoch 50/50\n",
            "7/7 - 0s - 8ms/step - accuracy: 0.9524 - loss: 0.0246\n"
          ]
        },
        {
          "output_type": "execute_result",
          "data": {
            "text/plain": [
              "<keras.src.callbacks.history.History at 0x7ed2cd295060>"
            ]
          },
          "metadata": {},
          "execution_count": 6
        }
      ]
    },
    {
      "cell_type": "markdown",
      "source": [
        "# Extract Encoder part from model and its features"
      ],
      "metadata": {
        "id": "LWMwHXpdKQmQ"
      }
    },
    {
      "cell_type": "code",
      "source": [
        "encoder = keras.Model(inputs=model.input, outputs=model.layers[-3].output)\n",
        "\n",
        "encoded_features = encoder.predict(x_scaled)"
      ],
      "metadata": {
        "colab": {
          "base_uri": "https://localhost:8080/"
        },
        "id": "08P8z9QEKMtj",
        "outputId": "f8e5556b-50e2-4518-938c-aaec08049768"
      },
      "execution_count": null,
      "outputs": [
        {
          "output_type": "stream",
          "name": "stdout",
          "text": [
            "\u001b[1m4/4\u001b[0m \u001b[32m━━━━━━━━━━━━━━━━━━━━\u001b[0m\u001b[37m\u001b[0m \u001b[1m0s\u001b[0m 27ms/step\n"
          ]
        }
      ]
    },
    {
      "cell_type": "markdown",
      "source": [
        "# Using K-Means Clustering"
      ],
      "metadata": {
        "id": "8sSJjuXFKeC7"
      }
    },
    {
      "cell_type": "code",
      "source": [
        "num_clusters = len(np.unique(y))\n",
        "kmeans = KMeans(n_clusters=num_clusters, random_state=42)\n",
        "kmeans.fit(encoded_features)"
      ],
      "metadata": {
        "colab": {
          "base_uri": "https://localhost:8080/",
          "height": 164
        },
        "id": "_NOwRLaUKMnm",
        "outputId": "3cb7b9bb-8df1-431d-80bf-d7a9d41ad6ac"
      },
      "execution_count": null,
      "outputs": [
        {
          "output_type": "stream",
          "name": "stderr",
          "text": [
            "/usr/local/lib/python3.10/dist-packages/sklearn/cluster/_kmeans.py:870: FutureWarning: The default value of `n_init` will change from 10 to 'auto' in 1.4. Set the value of `n_init` explicitly to suppress the warning\n",
            "  warnings.warn(\n",
            "<ipython-input-9-065f2a3353e7>:3: ConvergenceWarning: Number of distinct clusters (93) found smaller than n_clusters (104). Possibly due to duplicate points in X.\n",
            "  kmeans.fit(encoded_features)\n"
          ]
        },
        {
          "output_type": "execute_result",
          "data": {
            "text/plain": [
              "KMeans(n_clusters=104, random_state=42)"
            ],
            "text/html": [
              "<style>#sk-container-id-1 {color: black;background-color: white;}#sk-container-id-1 pre{padding: 0;}#sk-container-id-1 div.sk-toggleable {background-color: white;}#sk-container-id-1 label.sk-toggleable__label {cursor: pointer;display: block;width: 100%;margin-bottom: 0;padding: 0.3em;box-sizing: border-box;text-align: center;}#sk-container-id-1 label.sk-toggleable__label-arrow:before {content: \"▸\";float: left;margin-right: 0.25em;color: #696969;}#sk-container-id-1 label.sk-toggleable__label-arrow:hover:before {color: black;}#sk-container-id-1 div.sk-estimator:hover label.sk-toggleable__label-arrow:before {color: black;}#sk-container-id-1 div.sk-toggleable__content {max-height: 0;max-width: 0;overflow: hidden;text-align: left;background-color: #f0f8ff;}#sk-container-id-1 div.sk-toggleable__content pre {margin: 0.2em;color: black;border-radius: 0.25em;background-color: #f0f8ff;}#sk-container-id-1 input.sk-toggleable__control:checked~div.sk-toggleable__content {max-height: 200px;max-width: 100%;overflow: auto;}#sk-container-id-1 input.sk-toggleable__control:checked~label.sk-toggleable__label-arrow:before {content: \"▾\";}#sk-container-id-1 div.sk-estimator input.sk-toggleable__control:checked~label.sk-toggleable__label {background-color: #d4ebff;}#sk-container-id-1 div.sk-label input.sk-toggleable__control:checked~label.sk-toggleable__label {background-color: #d4ebff;}#sk-container-id-1 input.sk-hidden--visually {border: 0;clip: rect(1px 1px 1px 1px);clip: rect(1px, 1px, 1px, 1px);height: 1px;margin: -1px;overflow: hidden;padding: 0;position: absolute;width: 1px;}#sk-container-id-1 div.sk-estimator {font-family: monospace;background-color: #f0f8ff;border: 1px dotted black;border-radius: 0.25em;box-sizing: border-box;margin-bottom: 0.5em;}#sk-container-id-1 div.sk-estimator:hover {background-color: #d4ebff;}#sk-container-id-1 div.sk-parallel-item::after {content: \"\";width: 100%;border-bottom: 1px solid gray;flex-grow: 1;}#sk-container-id-1 div.sk-label:hover label.sk-toggleable__label {background-color: #d4ebff;}#sk-container-id-1 div.sk-serial::before {content: \"\";position: absolute;border-left: 1px solid gray;box-sizing: border-box;top: 0;bottom: 0;left: 50%;z-index: 0;}#sk-container-id-1 div.sk-serial {display: flex;flex-direction: column;align-items: center;background-color: white;padding-right: 0.2em;padding-left: 0.2em;position: relative;}#sk-container-id-1 div.sk-item {position: relative;z-index: 1;}#sk-container-id-1 div.sk-parallel {display: flex;align-items: stretch;justify-content: center;background-color: white;position: relative;}#sk-container-id-1 div.sk-item::before, #sk-container-id-1 div.sk-parallel-item::before {content: \"\";position: absolute;border-left: 1px solid gray;box-sizing: border-box;top: 0;bottom: 0;left: 50%;z-index: -1;}#sk-container-id-1 div.sk-parallel-item {display: flex;flex-direction: column;z-index: 1;position: relative;background-color: white;}#sk-container-id-1 div.sk-parallel-item:first-child::after {align-self: flex-end;width: 50%;}#sk-container-id-1 div.sk-parallel-item:last-child::after {align-self: flex-start;width: 50%;}#sk-container-id-1 div.sk-parallel-item:only-child::after {width: 0;}#sk-container-id-1 div.sk-dashed-wrapped {border: 1px dashed gray;margin: 0 0.4em 0.5em 0.4em;box-sizing: border-box;padding-bottom: 0.4em;background-color: white;}#sk-container-id-1 div.sk-label label {font-family: monospace;font-weight: bold;display: inline-block;line-height: 1.2em;}#sk-container-id-1 div.sk-label-container {text-align: center;}#sk-container-id-1 div.sk-container {/* jupyter's `normalize.less` sets `[hidden] { display: none; }` but bootstrap.min.css set `[hidden] { display: none !important; }` so we also need the `!important` here to be able to override the default hidden behavior on the sphinx rendered scikit-learn.org. See: https://github.com/scikit-learn/scikit-learn/issues/21755 */display: inline-block !important;position: relative;}#sk-container-id-1 div.sk-text-repr-fallback {display: none;}</style><div id=\"sk-container-id-1\" class=\"sk-top-container\"><div class=\"sk-text-repr-fallback\"><pre>KMeans(n_clusters=104, random_state=42)</pre><b>In a Jupyter environment, please rerun this cell to show the HTML representation or trust the notebook. <br />On GitHub, the HTML representation is unable to render, please try loading this page with nbviewer.org.</b></div><div class=\"sk-container\" hidden><div class=\"sk-item\"><div class=\"sk-estimator sk-toggleable\"><input class=\"sk-toggleable__control sk-hidden--visually\" id=\"sk-estimator-id-1\" type=\"checkbox\" checked><label for=\"sk-estimator-id-1\" class=\"sk-toggleable__label sk-toggleable__label-arrow\">KMeans</label><div class=\"sk-toggleable__content\"><pre>KMeans(n_clusters=104, random_state=42)</pre></div></div></div></div></div>"
            ]
          },
          "metadata": {},
          "execution_count": 9
        }
      ]
    },
    {
      "cell_type": "markdown",
      "source": [
        "# Get the cluster lables and transform it to Integer"
      ],
      "metadata": {
        "id": "0rymzjgtKoa2"
      }
    },
    {
      "cell_type": "code",
      "source": [
        "labels = kmeans.labels_\n",
        "\n",
        "_, y_encoded = np.unique(y, return_inverse=True)"
      ],
      "metadata": {
        "id": "E8rsHd82KMja"
      },
      "execution_count": null,
      "outputs": []
    },
    {
      "cell_type": "markdown",
      "source": [
        "# Evaluate the models using ARI [Adjusted Rand Index]"
      ],
      "metadata": {
        "id": "LZVA1MhHKw9q"
      }
    },
    {
      "cell_type": "code",
      "source": [
        "ari_score = adjusted_rand_score(y_encoded, labels)\n",
        "print(f\"Adjusted Rand Index: {ari_score}\")"
      ],
      "metadata": {
        "colab": {
          "base_uri": "https://localhost:8080/"
        },
        "id": "ghDk6sMvKwqB",
        "outputId": "5255983b-b3f4-42d4-a387-d80bf773de79"
      },
      "execution_count": null,
      "outputs": [
        {
          "output_type": "stream",
          "name": "stdout",
          "text": [
            "Adjusted Rand Index: -0.00034352456200618345\n"
          ]
        }
      ]
    },
    {
      "cell_type": "markdown",
      "source": [
        "# Result of the Cluster using Dataframe"
      ],
      "metadata": {
        "id": "4O6V-ZpFK8Xb"
      }
    },
    {
      "cell_type": "code",
      "source": [
        "df = pd.DataFrame(x_scaled, columns=[f'feature_{i+1}' for i in range(10)])\n",
        "df['career'] = y.values\n",
        "df['cluster'] = labels\n",
        "\n",
        "print(df.head())"
      ],
      "metadata": {
        "colab": {
          "base_uri": "https://localhost:8080/"
        },
        "id": "O4mL7zz7J7nJ",
        "outputId": "d2209369-e0b1-4fb0-e82a-2000ffbf2a58"
      },
      "execution_count": null,
      "outputs": [
        {
          "output_type": "stream",
          "name": "stdout",
          "text": [
            "   feature_1  feature_2  feature_3  feature_4  feature_5  feature_6  \\\n",
            "0  -1.325510   0.935916  -1.283532  -1.010057  -1.429708   1.688228   \n",
            "1   1.067059  -1.545052  -0.604755  -0.274248  -1.429708  -0.420530   \n",
            "2  -0.844122  -0.627094   2.318267   0.461562  -0.527743   0.148989   \n",
            "3   1.311345   1.026884  -0.806554  -0.791303  -1.048107   1.000701   \n",
            "4  -0.607021   0.017957   0.074022   1.495672  -1.429708  -0.307652   \n",
            "\n",
            "   feature_7  feature_8  feature_9  feature_10              career  cluster  \n",
            "0   0.094643   0.929447   1.161923   -0.453172          Accountant       25  \n",
            "1   2.100720   1.567791   0.330372   -0.527090    Graphic Designer       24  \n",
            "2  -0.075538   0.739669   0.507412    1.112546         Salesperson        4  \n",
            "3   0.496890   0.739669   1.939826    0.588400  Research Scientist       36  \n",
            "4  -0.188992   0.613150   0.029941    1.260382             Teacher       20  \n"
          ]
        }
      ]
    },
    {
      "cell_type": "markdown",
      "source": [
        "# Cluster unique code for each Career"
      ],
      "metadata": {
        "id": "fk_W3LdKLDlZ"
      }
    },
    {
      "cell_type": "code",
      "source": [
        "pd.set_option('display.max_rows', 105)\n",
        "\n",
        "df_sorted = df[['career', 'cluster']].sort_values('cluster')\n",
        "\n",
        "print(df_sorted)"
      ],
      "metadata": {
        "colab": {
          "base_uri": "https://localhost:8080/"
        },
        "id": "KXfnWgJZJmLJ",
        "outputId": "40b15896-743e-4e8e-e8a2-af86fa034723"
      },
      "execution_count": null,
      "outputs": [
        {
          "output_type": "stream",
          "name": "stdout",
          "text": [
            "                                    career  cluster\n",
            "102                         Civil Engineer        0\n",
            "57                      Physical Therapist        1\n",
            "43                        Speech Therapist        1\n",
            "73                       Genetic Counselor        1\n",
            "85                         Fashion Stylist        2\n",
            "67                       Video Game Tester        2\n",
            "53                       Financial Advisor        3\n",
            "2                              Salesperson        4\n",
            "87                   Public Health Analyst        5\n",
            "41                    Marketing Copywriter        6\n",
            "82                        Technical Writer        7\n",
            "25                   Marketing Coordinator        8\n",
            "104            Electronics Design Engineer        9\n",
            "16                              Astronomer       10\n",
            "14                   Construction Engineer       11\n",
            "19                           Event Planner       12\n",
            "101  Customs and Border Protection Officer       13\n",
            "97                          Police Officer       13\n",
            "37                 Market Research Analyst       14\n",
            "47                               Geologist       15\n",
            "9                                     Chef       16\n",
            "91                 Radiologic Technologist       17\n",
            "62                         Pediatric Nurse       18\n",
            "94                Rehabilitation Counselor       18\n",
            "86                      Speech Pathologist       18\n",
            "92                          Tax Accountant       19\n",
            "4                                  Teacher       20\n",
            "6                                    Nurse       21\n",
            "12                                  Artist       23\n",
            "1                         Graphic Designer       24\n",
            "0                               Accountant       25\n",
            "54                           Airline Pilot       26\n",
            "30                           Social Worker       27\n",
            "77                       Investment Banker       28\n",
            "27                      Event Photographer       29\n",
            "40                        Police Detective       30\n",
            "17                       Financial Analyst       31\n",
            "48                           Web Developer       32\n",
            "79                     Human Rights Lawyer       33\n",
            "69                 Environmental Scientist       34\n",
            "55                  Environmental Engineer       34\n",
            "96                                Diplomat       35\n",
            "100                Foreign Service Officer       35\n",
            "3                       Research Scientist       36\n",
            "39                                Musician       37\n",
            "88                            Sports Coach       39\n",
            "5                                Architect       40\n",
            "63                   Advertising Executive       41\n",
            "103                      Robotics Engineer       42\n",
            "72             Public Relations Specialist       43\n",
            "52                           Urban Planner       44\n",
            "10                       Marketing Manager       45\n",
            "7                       Software Developer       46\n",
            "26                     Biomedical Engineer       47\n",
            "36                     Industrial Engineer       48\n",
            "35               Elementary School Teacher       49\n",
            "22                                  Lawyer       50\n",
            "8                             Psychologist       52\n",
            "84                         Product Manager       53\n",
            "93               Quality Control Inspector       54\n",
            "11                               Physician       55\n",
            "18                               Biologist       56\n",
            "65                      IT Project Manager       57\n",
            "13                 Human Resources Manager       58\n",
            "51                          Game Developer       59\n",
            "50                  Air Traffic Controller       60\n",
            "75                  Occupational Therapist       61\n",
            "68                      Marriage Counselor       61\n",
            "23                   IT Support Specialist       62\n",
            "58                     Mechanical Designer       63\n",
            "15                              Journalist       64\n",
            "24                        Fashion Designer       66\n",
            "20                       Real Estate Agent       68\n",
            "74                       Market Researcher       69\n",
            "21                 Environmental Scientist       70\n",
            "76                     Electrical Engineer       71\n",
            "59                        Dental Hygienist       72\n",
            "38                       Financial Auditor       73\n",
            "81                            Pediatrician       74\n",
            "44                     Mechanical Engineer       75\n",
            "45                      Forensic Scientist       76\n",
            "66                     Forestry Technician       77\n",
            "33                            HR Recruiter       78\n",
            "60                       Marketing Analyst       79\n",
            "78                        Marine Biologist       80\n",
            "70                   Biomedical Researcher       81\n",
            "98                  Administrative Officer       82\n",
            "71                  Database Administrator       83\n",
            "56                       Interior Designer       84\n",
            "90                            Chiropractor       85\n",
            "46                    Social Media Manager       86\n",
            "83                   Forensic Psychologist       88\n",
            "95                           Film Director       89\n",
            "42                               Zoologist       90\n",
            "49                      Wildlife Biologist       90\n",
            "61                      Aerospace Engineer       91\n",
            "64                Wildlife Conservationist       92\n",
            "99                           Tax Collector       94\n",
            "80                        Database Analyst       94\n",
            "89                   Insurance Underwriter       94\n",
            "28                            Data Analyst       95\n",
            "34       Software Quality Assurance Tester       97\n",
            "29                              Pharmacist      101\n",
            "31                       Financial Planner      102\n",
            "32                         Biotechnologist      103\n"
          ]
        }
      ]
    },
    {
      "cell_type": "markdown",
      "source": [
        "# **Testing the models**"
      ],
      "metadata": {
        "id": "oihjmduYkLgi"
      }
    },
    {
      "cell_type": "code",
      "source": [
        "def predict_career(new_inputs):\n",
        "    new_inputs_scaled = scaler.transform(new_inputs)\n",
        "    encoded_features = encoder.predict(new_inputs_scaled)\n",
        "    cluster_labels = kmeans.predict(encoded_features)\n",
        "    return cluster_labels"
      ],
      "metadata": {
        "id": "CN3V0alXXyv2"
      },
      "execution_count": null,
      "outputs": []
    },
    {
      "cell_type": "code",
      "source": [
        "def map_cluster_to_career(cluster_label):\n",
        "    cluster_to_career_map = {}\n",
        "    for cluster, career in df_sorted.groupby('cluster')['career']:\n",
        "        cluster_to_career_map[cluster] = career.iloc[0]\n",
        "    return cluster_to_career_map.get(cluster_label, 'Unknown')"
      ],
      "metadata": {
        "id": "Fd3Thwz2yJtX"
      },
      "execution_count": null,
      "outputs": []
    },
    {
      "cell_type": "code",
      "source": [
        "new_inputs = np.array([[1.78, 2.45, 2.45, 5.67, 3.56, 4.00, 6.00, 1.00, 6.00, 1.00]])\n",
        "predicted_cluster = predict_career(new_inputs)[0]\n",
        "predicted_career = map_cluster_to_career(predicted_cluster)\n",
        "print(f\"Predicted career: {predicted_career}\")"
      ],
      "metadata": {
        "colab": {
          "base_uri": "https://localhost:8080/"
        },
        "id": "j3Hy5_arkKaz",
        "outputId": "8ace24d8-62f7-4da7-ad47-4a621f652c31"
      },
      "execution_count": null,
      "outputs": [
        {
          "output_type": "stream",
          "name": "stdout",
          "text": [
            "\u001b[1m1/1\u001b[0m \u001b[32m━━━━━━━━━━━━━━━━━━━━\u001b[0m\u001b[37m\u001b[0m \u001b[1m0s\u001b[0m 128ms/step\n",
            "Predicted career: Construction Engineer\n"
          ]
        },
        {
          "output_type": "stream",
          "name": "stderr",
          "text": [
            "/usr/local/lib/python3.10/dist-packages/sklearn/base.py:439: UserWarning: X does not have valid feature names, but StandardScaler was fitted with feature names\n",
            "  warnings.warn(\n"
          ]
        }
      ]
    },
    {
      "cell_type": "markdown",
      "source": [
        "# **Saving the Models**"
      ],
      "metadata": {
        "id": "wMHmHz7wjexK"
      }
    },
    {
      "cell_type": "code",
      "source": [
        "def save_model(model, filename):\n",
        "    model.save(filename)"
      ],
      "metadata": {
        "id": "6xYV42HtJmDa"
      },
      "execution_count": null,
      "outputs": []
    },
    {
      "cell_type": "code",
      "source": [
        "model.summary()\n",
        "save_model(model, 'career_prediction.h5')\n",
        "\n",
        "print(\"Model saved to career_prediction.h5\")"
      ],
      "metadata": {
        "id": "1nnCDXqPvtuh",
        "colab": {
          "base_uri": "https://localhost:8080/",
          "height": 446
        },
        "outputId": "0d76ec1d-30c7-48c0-accb-19ec8b4b5216"
      },
      "execution_count": null,
      "outputs": [
        {
          "output_type": "display_data",
          "data": {
            "text/plain": [
              "\u001b[1mModel: \"functional_1\"\u001b[0m\n"
            ],
            "text/html": [
              "<pre style=\"white-space:pre;overflow-x:auto;line-height:normal;font-family:Menlo,'DejaVu Sans Mono',consolas,'Courier New',monospace\"><span style=\"font-weight: bold\">Model: \"functional_1\"</span>\n",
              "</pre>\n"
            ]
          },
          "metadata": {}
        },
        {
          "output_type": "display_data",
          "data": {
            "text/plain": [
              "┏━━━━━━━━━━━━━━━━━━━━━━━━━━━━━━━━━━━━━━┳━━━━━━━━━━━━━━━━━━━━━━━━━━━━━┳━━━━━━━━━━━━━━━━━┓\n",
              "┃\u001b[1m \u001b[0m\u001b[1mLayer (type)                        \u001b[0m\u001b[1m \u001b[0m┃\u001b[1m \u001b[0m\u001b[1mOutput Shape               \u001b[0m\u001b[1m \u001b[0m┃\u001b[1m \u001b[0m\u001b[1m        Param #\u001b[0m\u001b[1m \u001b[0m┃\n",
              "┡━━━━━━━━━━━━━━━━━━━━━━━━━━━━━━━━━━━━━━╇━━━━━━━━━━━━━━━━━━━━━━━━━━━━━╇━━━━━━━━━━━━━━━━━┩\n",
              "│ input_layer (\u001b[38;5;33mInputLayer\u001b[0m)             │ (\u001b[38;5;45mNone\u001b[0m, \u001b[38;5;34m10\u001b[0m)                  │               \u001b[38;5;34m0\u001b[0m │\n",
              "├──────────────────────────────────────┼─────────────────────────────┼─────────────────┤\n",
              "│ reshape (\u001b[38;5;33mReshape\u001b[0m)                    │ (\u001b[38;5;45mNone\u001b[0m, \u001b[38;5;34m10\u001b[0m, \u001b[38;5;34m1\u001b[0m)               │               \u001b[38;5;34m0\u001b[0m │\n",
              "├──────────────────────────────────────┼─────────────────────────────┼─────────────────┤\n",
              "│ conv1d (\u001b[38;5;33mConv1D\u001b[0m)                      │ (\u001b[38;5;45mNone\u001b[0m, \u001b[38;5;34m8\u001b[0m, \u001b[38;5;34m32\u001b[0m)               │             \u001b[38;5;34m128\u001b[0m │\n",
              "├──────────────────────────────────────┼─────────────────────────────┼─────────────────┤\n",
              "│ max_pooling1d (\u001b[38;5;33mMaxPooling1D\u001b[0m)         │ (\u001b[38;5;45mNone\u001b[0m, \u001b[38;5;34m4\u001b[0m, \u001b[38;5;34m32\u001b[0m)               │               \u001b[38;5;34m0\u001b[0m │\n",
              "├──────────────────────────────────────┼─────────────────────────────┼─────────────────┤\n",
              "│ flatten (\u001b[38;5;33mFlatten\u001b[0m)                    │ (\u001b[38;5;45mNone\u001b[0m, \u001b[38;5;34m128\u001b[0m)                 │               \u001b[38;5;34m0\u001b[0m │\n",
              "├──────────────────────────────────────┼─────────────────────────────┼─────────────────┤\n",
              "│ dense (\u001b[38;5;33mDense\u001b[0m)                        │ (\u001b[38;5;45mNone\u001b[0m, \u001b[38;5;34m64\u001b[0m)                  │           \u001b[38;5;34m8,256\u001b[0m │\n",
              "├──────────────────────────────────────┼─────────────────────────────┼─────────────────┤\n",
              "│ dense_1 (\u001b[38;5;33mDense\u001b[0m)                      │ (\u001b[38;5;45mNone\u001b[0m, \u001b[38;5;34m10\u001b[0m)                  │             \u001b[38;5;34m650\u001b[0m │\n",
              "└──────────────────────────────────────┴─────────────────────────────┴─────────────────┘\n"
            ],
            "text/html": [
              "<pre style=\"white-space:pre;overflow-x:auto;line-height:normal;font-family:Menlo,'DejaVu Sans Mono',consolas,'Courier New',monospace\">┏━━━━━━━━━━━━━━━━━━━━━━━━━━━━━━━━━━━━━━┳━━━━━━━━━━━━━━━━━━━━━━━━━━━━━┳━━━━━━━━━━━━━━━━━┓\n",
              "┃<span style=\"font-weight: bold\"> Layer (type)                         </span>┃<span style=\"font-weight: bold\"> Output Shape                </span>┃<span style=\"font-weight: bold\">         Param # </span>┃\n",
              "┡━━━━━━━━━━━━━━━━━━━━━━━━━━━━━━━━━━━━━━╇━━━━━━━━━━━━━━━━━━━━━━━━━━━━━╇━━━━━━━━━━━━━━━━━┩\n",
              "│ input_layer (<span style=\"color: #0087ff; text-decoration-color: #0087ff\">InputLayer</span>)             │ (<span style=\"color: #00d7ff; text-decoration-color: #00d7ff\">None</span>, <span style=\"color: #00af00; text-decoration-color: #00af00\">10</span>)                  │               <span style=\"color: #00af00; text-decoration-color: #00af00\">0</span> │\n",
              "├──────────────────────────────────────┼─────────────────────────────┼─────────────────┤\n",
              "│ reshape (<span style=\"color: #0087ff; text-decoration-color: #0087ff\">Reshape</span>)                    │ (<span style=\"color: #00d7ff; text-decoration-color: #00d7ff\">None</span>, <span style=\"color: #00af00; text-decoration-color: #00af00\">10</span>, <span style=\"color: #00af00; text-decoration-color: #00af00\">1</span>)               │               <span style=\"color: #00af00; text-decoration-color: #00af00\">0</span> │\n",
              "├──────────────────────────────────────┼─────────────────────────────┼─────────────────┤\n",
              "│ conv1d (<span style=\"color: #0087ff; text-decoration-color: #0087ff\">Conv1D</span>)                      │ (<span style=\"color: #00d7ff; text-decoration-color: #00d7ff\">None</span>, <span style=\"color: #00af00; text-decoration-color: #00af00\">8</span>, <span style=\"color: #00af00; text-decoration-color: #00af00\">32</span>)               │             <span style=\"color: #00af00; text-decoration-color: #00af00\">128</span> │\n",
              "├──────────────────────────────────────┼─────────────────────────────┼─────────────────┤\n",
              "│ max_pooling1d (<span style=\"color: #0087ff; text-decoration-color: #0087ff\">MaxPooling1D</span>)         │ (<span style=\"color: #00d7ff; text-decoration-color: #00d7ff\">None</span>, <span style=\"color: #00af00; text-decoration-color: #00af00\">4</span>, <span style=\"color: #00af00; text-decoration-color: #00af00\">32</span>)               │               <span style=\"color: #00af00; text-decoration-color: #00af00\">0</span> │\n",
              "├──────────────────────────────────────┼─────────────────────────────┼─────────────────┤\n",
              "│ flatten (<span style=\"color: #0087ff; text-decoration-color: #0087ff\">Flatten</span>)                    │ (<span style=\"color: #00d7ff; text-decoration-color: #00d7ff\">None</span>, <span style=\"color: #00af00; text-decoration-color: #00af00\">128</span>)                 │               <span style=\"color: #00af00; text-decoration-color: #00af00\">0</span> │\n",
              "├──────────────────────────────────────┼─────────────────────────────┼─────────────────┤\n",
              "│ dense (<span style=\"color: #0087ff; text-decoration-color: #0087ff\">Dense</span>)                        │ (<span style=\"color: #00d7ff; text-decoration-color: #00d7ff\">None</span>, <span style=\"color: #00af00; text-decoration-color: #00af00\">64</span>)                  │           <span style=\"color: #00af00; text-decoration-color: #00af00\">8,256</span> │\n",
              "├──────────────────────────────────────┼─────────────────────────────┼─────────────────┤\n",
              "│ dense_1 (<span style=\"color: #0087ff; text-decoration-color: #0087ff\">Dense</span>)                      │ (<span style=\"color: #00d7ff; text-decoration-color: #00d7ff\">None</span>, <span style=\"color: #00af00; text-decoration-color: #00af00\">10</span>)                  │             <span style=\"color: #00af00; text-decoration-color: #00af00\">650</span> │\n",
              "└──────────────────────────────────────┴─────────────────────────────┴─────────────────┘\n",
              "</pre>\n"
            ]
          },
          "metadata": {}
        },
        {
          "output_type": "display_data",
          "data": {
            "text/plain": [
              "\u001b[1m Total params: \u001b[0m\u001b[38;5;34m27,104\u001b[0m (105.88 KB)\n"
            ],
            "text/html": [
              "<pre style=\"white-space:pre;overflow-x:auto;line-height:normal;font-family:Menlo,'DejaVu Sans Mono',consolas,'Courier New',monospace\"><span style=\"font-weight: bold\"> Total params: </span><span style=\"color: #00af00; text-decoration-color: #00af00\">27,104</span> (105.88 KB)\n",
              "</pre>\n"
            ]
          },
          "metadata": {}
        },
        {
          "output_type": "display_data",
          "data": {
            "text/plain": [
              "\u001b[1m Trainable params: \u001b[0m\u001b[38;5;34m9,034\u001b[0m (35.29 KB)\n"
            ],
            "text/html": [
              "<pre style=\"white-space:pre;overflow-x:auto;line-height:normal;font-family:Menlo,'DejaVu Sans Mono',consolas,'Courier New',monospace\"><span style=\"font-weight: bold\"> Trainable params: </span><span style=\"color: #00af00; text-decoration-color: #00af00\">9,034</span> (35.29 KB)\n",
              "</pre>\n"
            ]
          },
          "metadata": {}
        },
        {
          "output_type": "display_data",
          "data": {
            "text/plain": [
              "\u001b[1m Non-trainable params: \u001b[0m\u001b[38;5;34m0\u001b[0m (0.00 B)\n"
            ],
            "text/html": [
              "<pre style=\"white-space:pre;overflow-x:auto;line-height:normal;font-family:Menlo,'DejaVu Sans Mono',consolas,'Courier New',monospace\"><span style=\"font-weight: bold\"> Non-trainable params: </span><span style=\"color: #00af00; text-decoration-color: #00af00\">0</span> (0.00 B)\n",
              "</pre>\n"
            ]
          },
          "metadata": {}
        },
        {
          "output_type": "display_data",
          "data": {
            "text/plain": [
              "\u001b[1m Optimizer params: \u001b[0m\u001b[38;5;34m18,070\u001b[0m (70.59 KB)\n"
            ],
            "text/html": [
              "<pre style=\"white-space:pre;overflow-x:auto;line-height:normal;font-family:Menlo,'DejaVu Sans Mono',consolas,'Courier New',monospace\"><span style=\"font-weight: bold\"> Optimizer params: </span><span style=\"color: #00af00; text-decoration-color: #00af00\">18,070</span> (70.59 KB)\n",
              "</pre>\n"
            ]
          },
          "metadata": {}
        },
        {
          "output_type": "stream",
          "name": "stderr",
          "text": [
            "WARNING:absl:You are saving your model as an HDF5 file via `model.save()` or `keras.saving.save_model(model)`. This file format is considered legacy. We recommend using instead the native Keras format, e.g. `model.save('my_model.keras')` or `keras.saving.save_model(model, 'my_model.keras')`. \n"
          ]
        },
        {
          "output_type": "stream",
          "name": "stdout",
          "text": [
            "Model saved to career_prediction.h5\n"
          ]
        }
      ]
    },
    {
      "cell_type": "code",
      "source": [
        "encoder.summary()\n",
        "save_model(encoder, 'encoder_career_prediction.h5')\n",
        "\n",
        "print(\"Model saved to encoder_career_prediction.h5\")"
      ],
      "metadata": {
        "id": "284gijae3ciE",
        "colab": {
          "base_uri": "https://localhost:8080/",
          "height": 361
        },
        "outputId": "860a67f5-1808-4d82-cb5a-08e4181a86f9"
      },
      "execution_count": null,
      "outputs": [
        {
          "output_type": "display_data",
          "data": {
            "text/plain": [
              "\u001b[1mModel: \"functional_3\"\u001b[0m\n"
            ],
            "text/html": [
              "<pre style=\"white-space:pre;overflow-x:auto;line-height:normal;font-family:Menlo,'DejaVu Sans Mono',consolas,'Courier New',monospace\"><span style=\"font-weight: bold\">Model: \"functional_3\"</span>\n",
              "</pre>\n"
            ]
          },
          "metadata": {}
        },
        {
          "output_type": "display_data",
          "data": {
            "text/plain": [
              "┏━━━━━━━━━━━━━━━━━━━━━━━━━━━━━━━━━━━━━━┳━━━━━━━━━━━━━━━━━━━━━━━━━━━━━┳━━━━━━━━━━━━━━━━━┓\n",
              "┃\u001b[1m \u001b[0m\u001b[1mLayer (type)                        \u001b[0m\u001b[1m \u001b[0m┃\u001b[1m \u001b[0m\u001b[1mOutput Shape               \u001b[0m\u001b[1m \u001b[0m┃\u001b[1m \u001b[0m\u001b[1m        Param #\u001b[0m\u001b[1m \u001b[0m┃\n",
              "┡━━━━━━━━━━━━━━━━━━━━━━━━━━━━━━━━━━━━━━╇━━━━━━━━━━━━━━━━━━━━━━━━━━━━━╇━━━━━━━━━━━━━━━━━┩\n",
              "│ input_layer (\u001b[38;5;33mInputLayer\u001b[0m)             │ (\u001b[38;5;45mNone\u001b[0m, \u001b[38;5;34m10\u001b[0m)                  │               \u001b[38;5;34m0\u001b[0m │\n",
              "├──────────────────────────────────────┼─────────────────────────────┼─────────────────┤\n",
              "│ reshape (\u001b[38;5;33mReshape\u001b[0m)                    │ (\u001b[38;5;45mNone\u001b[0m, \u001b[38;5;34m10\u001b[0m, \u001b[38;5;34m1\u001b[0m)               │               \u001b[38;5;34m0\u001b[0m │\n",
              "├──────────────────────────────────────┼─────────────────────────────┼─────────────────┤\n",
              "│ conv1d (\u001b[38;5;33mConv1D\u001b[0m)                      │ (\u001b[38;5;45mNone\u001b[0m, \u001b[38;5;34m8\u001b[0m, \u001b[38;5;34m32\u001b[0m)               │             \u001b[38;5;34m128\u001b[0m │\n",
              "├──────────────────────────────────────┼─────────────────────────────┼─────────────────┤\n",
              "│ max_pooling1d (\u001b[38;5;33mMaxPooling1D\u001b[0m)         │ (\u001b[38;5;45mNone\u001b[0m, \u001b[38;5;34m4\u001b[0m, \u001b[38;5;34m32\u001b[0m)               │               \u001b[38;5;34m0\u001b[0m │\n",
              "├──────────────────────────────────────┼─────────────────────────────┼─────────────────┤\n",
              "│ flatten (\u001b[38;5;33mFlatten\u001b[0m)                    │ (\u001b[38;5;45mNone\u001b[0m, \u001b[38;5;34m128\u001b[0m)                 │               \u001b[38;5;34m0\u001b[0m │\n",
              "└──────────────────────────────────────┴─────────────────────────────┴─────────────────┘\n"
            ],
            "text/html": [
              "<pre style=\"white-space:pre;overflow-x:auto;line-height:normal;font-family:Menlo,'DejaVu Sans Mono',consolas,'Courier New',monospace\">┏━━━━━━━━━━━━━━━━━━━━━━━━━━━━━━━━━━━━━━┳━━━━━━━━━━━━━━━━━━━━━━━━━━━━━┳━━━━━━━━━━━━━━━━━┓\n",
              "┃<span style=\"font-weight: bold\"> Layer (type)                         </span>┃<span style=\"font-weight: bold\"> Output Shape                </span>┃<span style=\"font-weight: bold\">         Param # </span>┃\n",
              "┡━━━━━━━━━━━━━━━━━━━━━━━━━━━━━━━━━━━━━━╇━━━━━━━━━━━━━━━━━━━━━━━━━━━━━╇━━━━━━━━━━━━━━━━━┩\n",
              "│ input_layer (<span style=\"color: #0087ff; text-decoration-color: #0087ff\">InputLayer</span>)             │ (<span style=\"color: #00d7ff; text-decoration-color: #00d7ff\">None</span>, <span style=\"color: #00af00; text-decoration-color: #00af00\">10</span>)                  │               <span style=\"color: #00af00; text-decoration-color: #00af00\">0</span> │\n",
              "├──────────────────────────────────────┼─────────────────────────────┼─────────────────┤\n",
              "│ reshape (<span style=\"color: #0087ff; text-decoration-color: #0087ff\">Reshape</span>)                    │ (<span style=\"color: #00d7ff; text-decoration-color: #00d7ff\">None</span>, <span style=\"color: #00af00; text-decoration-color: #00af00\">10</span>, <span style=\"color: #00af00; text-decoration-color: #00af00\">1</span>)               │               <span style=\"color: #00af00; text-decoration-color: #00af00\">0</span> │\n",
              "├──────────────────────────────────────┼─────────────────────────────┼─────────────────┤\n",
              "│ conv1d (<span style=\"color: #0087ff; text-decoration-color: #0087ff\">Conv1D</span>)                      │ (<span style=\"color: #00d7ff; text-decoration-color: #00d7ff\">None</span>, <span style=\"color: #00af00; text-decoration-color: #00af00\">8</span>, <span style=\"color: #00af00; text-decoration-color: #00af00\">32</span>)               │             <span style=\"color: #00af00; text-decoration-color: #00af00\">128</span> │\n",
              "├──────────────────────────────────────┼─────────────────────────────┼─────────────────┤\n",
              "│ max_pooling1d (<span style=\"color: #0087ff; text-decoration-color: #0087ff\">MaxPooling1D</span>)         │ (<span style=\"color: #00d7ff; text-decoration-color: #00d7ff\">None</span>, <span style=\"color: #00af00; text-decoration-color: #00af00\">4</span>, <span style=\"color: #00af00; text-decoration-color: #00af00\">32</span>)               │               <span style=\"color: #00af00; text-decoration-color: #00af00\">0</span> │\n",
              "├──────────────────────────────────────┼─────────────────────────────┼─────────────────┤\n",
              "│ flatten (<span style=\"color: #0087ff; text-decoration-color: #0087ff\">Flatten</span>)                    │ (<span style=\"color: #00d7ff; text-decoration-color: #00d7ff\">None</span>, <span style=\"color: #00af00; text-decoration-color: #00af00\">128</span>)                 │               <span style=\"color: #00af00; text-decoration-color: #00af00\">0</span> │\n",
              "└──────────────────────────────────────┴─────────────────────────────┴─────────────────┘\n",
              "</pre>\n"
            ]
          },
          "metadata": {}
        },
        {
          "output_type": "display_data",
          "data": {
            "text/plain": [
              "\u001b[1m Total params: \u001b[0m\u001b[38;5;34m128\u001b[0m (512.00 B)\n"
            ],
            "text/html": [
              "<pre style=\"white-space:pre;overflow-x:auto;line-height:normal;font-family:Menlo,'DejaVu Sans Mono',consolas,'Courier New',monospace\"><span style=\"font-weight: bold\"> Total params: </span><span style=\"color: #00af00; text-decoration-color: #00af00\">128</span> (512.00 B)\n",
              "</pre>\n"
            ]
          },
          "metadata": {}
        },
        {
          "output_type": "display_data",
          "data": {
            "text/plain": [
              "\u001b[1m Trainable params: \u001b[0m\u001b[38;5;34m128\u001b[0m (512.00 B)\n"
            ],
            "text/html": [
              "<pre style=\"white-space:pre;overflow-x:auto;line-height:normal;font-family:Menlo,'DejaVu Sans Mono',consolas,'Courier New',monospace\"><span style=\"font-weight: bold\"> Trainable params: </span><span style=\"color: #00af00; text-decoration-color: #00af00\">128</span> (512.00 B)\n",
              "</pre>\n"
            ]
          },
          "metadata": {}
        },
        {
          "output_type": "display_data",
          "data": {
            "text/plain": [
              "\u001b[1m Non-trainable params: \u001b[0m\u001b[38;5;34m0\u001b[0m (0.00 B)\n"
            ],
            "text/html": [
              "<pre style=\"white-space:pre;overflow-x:auto;line-height:normal;font-family:Menlo,'DejaVu Sans Mono',consolas,'Courier New',monospace\"><span style=\"font-weight: bold\"> Non-trainable params: </span><span style=\"color: #00af00; text-decoration-color: #00af00\">0</span> (0.00 B)\n",
              "</pre>\n"
            ]
          },
          "metadata": {}
        },
        {
          "output_type": "stream",
          "name": "stderr",
          "text": [
            "WARNING:absl:You are saving your model as an HDF5 file via `model.save()` or `keras.saving.save_model(model)`. This file format is considered legacy. We recommend using instead the native Keras format, e.g. `model.save('my_model.keras')` or `keras.saving.save_model(model, 'my_model.keras')`. \n"
          ]
        },
        {
          "output_type": "stream",
          "name": "stdout",
          "text": [
            "Model saved to encoder_career_prediction.h5\n"
          ]
        }
      ]
    },
    {
      "cell_type": "markdown",
      "source": [
        "# **Convert Models to TFLite**"
      ],
      "metadata": {
        "id": "TYHXj8MBpsNd"
      }
    },
    {
      "cell_type": "code",
      "source": [
        "model.summary()\n",
        "\n",
        "converter = tf.lite.TFLiteConverter.from_keras_model(model)\n",
        "tflite_model = converter.convert()"
      ],
      "metadata": {
        "colab": {
          "base_uri": "https://localhost:8080/",
          "height": 391
        },
        "id": "NhiuEd_jpvlq",
        "outputId": "152569ae-f67e-4308-9e4e-7178800fa636"
      },
      "execution_count": null,
      "outputs": [
        {
          "output_type": "display_data",
          "data": {
            "text/plain": [
              "\u001b[1mModel: \"functional_1\"\u001b[0m\n"
            ],
            "text/html": [
              "<pre style=\"white-space:pre;overflow-x:auto;line-height:normal;font-family:Menlo,'DejaVu Sans Mono',consolas,'Courier New',monospace\"><span style=\"font-weight: bold\">Model: \"functional_1\"</span>\n",
              "</pre>\n"
            ]
          },
          "metadata": {}
        },
        {
          "output_type": "display_data",
          "data": {
            "text/plain": [
              "┏━━━━━━━━━━━━━━━━━━━━━━━━━━━━━━━━━━━━━━┳━━━━━━━━━━━━━━━━━━━━━━━━━━━━━┳━━━━━━━━━━━━━━━━━┓\n",
              "┃\u001b[1m \u001b[0m\u001b[1mLayer (type)                        \u001b[0m\u001b[1m \u001b[0m┃\u001b[1m \u001b[0m\u001b[1mOutput Shape               \u001b[0m\u001b[1m \u001b[0m┃\u001b[1m \u001b[0m\u001b[1m        Param #\u001b[0m\u001b[1m \u001b[0m┃\n",
              "┡━━━━━━━━━━━━━━━━━━━━━━━━━━━━━━━━━━━━━━╇━━━━━━━━━━━━━━━━━━━━━━━━━━━━━╇━━━━━━━━━━━━━━━━━┩\n",
              "│ input_layer (\u001b[38;5;33mInputLayer\u001b[0m)             │ (\u001b[38;5;45mNone\u001b[0m, \u001b[38;5;34m10\u001b[0m)                  │               \u001b[38;5;34m0\u001b[0m │\n",
              "├──────────────────────────────────────┼─────────────────────────────┼─────────────────┤\n",
              "│ reshape (\u001b[38;5;33mReshape\u001b[0m)                    │ (\u001b[38;5;45mNone\u001b[0m, \u001b[38;5;34m10\u001b[0m, \u001b[38;5;34m1\u001b[0m)               │               \u001b[38;5;34m0\u001b[0m │\n",
              "├──────────────────────────────────────┼─────────────────────────────┼─────────────────┤\n",
              "│ conv1d (\u001b[38;5;33mConv1D\u001b[0m)                      │ (\u001b[38;5;45mNone\u001b[0m, \u001b[38;5;34m8\u001b[0m, \u001b[38;5;34m32\u001b[0m)               │             \u001b[38;5;34m128\u001b[0m │\n",
              "├──────────────────────────────────────┼─────────────────────────────┼─────────────────┤\n",
              "│ max_pooling1d (\u001b[38;5;33mMaxPooling1D\u001b[0m)         │ (\u001b[38;5;45mNone\u001b[0m, \u001b[38;5;34m4\u001b[0m, \u001b[38;5;34m32\u001b[0m)               │               \u001b[38;5;34m0\u001b[0m │\n",
              "├──────────────────────────────────────┼─────────────────────────────┼─────────────────┤\n",
              "│ flatten (\u001b[38;5;33mFlatten\u001b[0m)                    │ (\u001b[38;5;45mNone\u001b[0m, \u001b[38;5;34m128\u001b[0m)                 │               \u001b[38;5;34m0\u001b[0m │\n",
              "├──────────────────────────────────────┼─────────────────────────────┼─────────────────┤\n",
              "│ dense (\u001b[38;5;33mDense\u001b[0m)                        │ (\u001b[38;5;45mNone\u001b[0m, \u001b[38;5;34m64\u001b[0m)                  │           \u001b[38;5;34m8,256\u001b[0m │\n",
              "├──────────────────────────────────────┼─────────────────────────────┼─────────────────┤\n",
              "│ dense_1 (\u001b[38;5;33mDense\u001b[0m)                      │ (\u001b[38;5;45mNone\u001b[0m, \u001b[38;5;34m10\u001b[0m)                  │             \u001b[38;5;34m650\u001b[0m │\n",
              "└──────────────────────────────────────┴─────────────────────────────┴─────────────────┘\n"
            ],
            "text/html": [
              "<pre style=\"white-space:pre;overflow-x:auto;line-height:normal;font-family:Menlo,'DejaVu Sans Mono',consolas,'Courier New',monospace\">┏━━━━━━━━━━━━━━━━━━━━━━━━━━━━━━━━━━━━━━┳━━━━━━━━━━━━━━━━━━━━━━━━━━━━━┳━━━━━━━━━━━━━━━━━┓\n",
              "┃<span style=\"font-weight: bold\"> Layer (type)                         </span>┃<span style=\"font-weight: bold\"> Output Shape                </span>┃<span style=\"font-weight: bold\">         Param # </span>┃\n",
              "┡━━━━━━━━━━━━━━━━━━━━━━━━━━━━━━━━━━━━━━╇━━━━━━━━━━━━━━━━━━━━━━━━━━━━━╇━━━━━━━━━━━━━━━━━┩\n",
              "│ input_layer (<span style=\"color: #0087ff; text-decoration-color: #0087ff\">InputLayer</span>)             │ (<span style=\"color: #00d7ff; text-decoration-color: #00d7ff\">None</span>, <span style=\"color: #00af00; text-decoration-color: #00af00\">10</span>)                  │               <span style=\"color: #00af00; text-decoration-color: #00af00\">0</span> │\n",
              "├──────────────────────────────────────┼─────────────────────────────┼─────────────────┤\n",
              "│ reshape (<span style=\"color: #0087ff; text-decoration-color: #0087ff\">Reshape</span>)                    │ (<span style=\"color: #00d7ff; text-decoration-color: #00d7ff\">None</span>, <span style=\"color: #00af00; text-decoration-color: #00af00\">10</span>, <span style=\"color: #00af00; text-decoration-color: #00af00\">1</span>)               │               <span style=\"color: #00af00; text-decoration-color: #00af00\">0</span> │\n",
              "├──────────────────────────────────────┼─────────────────────────────┼─────────────────┤\n",
              "│ conv1d (<span style=\"color: #0087ff; text-decoration-color: #0087ff\">Conv1D</span>)                      │ (<span style=\"color: #00d7ff; text-decoration-color: #00d7ff\">None</span>, <span style=\"color: #00af00; text-decoration-color: #00af00\">8</span>, <span style=\"color: #00af00; text-decoration-color: #00af00\">32</span>)               │             <span style=\"color: #00af00; text-decoration-color: #00af00\">128</span> │\n",
              "├──────────────────────────────────────┼─────────────────────────────┼─────────────────┤\n",
              "│ max_pooling1d (<span style=\"color: #0087ff; text-decoration-color: #0087ff\">MaxPooling1D</span>)         │ (<span style=\"color: #00d7ff; text-decoration-color: #00d7ff\">None</span>, <span style=\"color: #00af00; text-decoration-color: #00af00\">4</span>, <span style=\"color: #00af00; text-decoration-color: #00af00\">32</span>)               │               <span style=\"color: #00af00; text-decoration-color: #00af00\">0</span> │\n",
              "├──────────────────────────────────────┼─────────────────────────────┼─────────────────┤\n",
              "│ flatten (<span style=\"color: #0087ff; text-decoration-color: #0087ff\">Flatten</span>)                    │ (<span style=\"color: #00d7ff; text-decoration-color: #00d7ff\">None</span>, <span style=\"color: #00af00; text-decoration-color: #00af00\">128</span>)                 │               <span style=\"color: #00af00; text-decoration-color: #00af00\">0</span> │\n",
              "├──────────────────────────────────────┼─────────────────────────────┼─────────────────┤\n",
              "│ dense (<span style=\"color: #0087ff; text-decoration-color: #0087ff\">Dense</span>)                        │ (<span style=\"color: #00d7ff; text-decoration-color: #00d7ff\">None</span>, <span style=\"color: #00af00; text-decoration-color: #00af00\">64</span>)                  │           <span style=\"color: #00af00; text-decoration-color: #00af00\">8,256</span> │\n",
              "├──────────────────────────────────────┼─────────────────────────────┼─────────────────┤\n",
              "│ dense_1 (<span style=\"color: #0087ff; text-decoration-color: #0087ff\">Dense</span>)                      │ (<span style=\"color: #00d7ff; text-decoration-color: #00d7ff\">None</span>, <span style=\"color: #00af00; text-decoration-color: #00af00\">10</span>)                  │             <span style=\"color: #00af00; text-decoration-color: #00af00\">650</span> │\n",
              "└──────────────────────────────────────┴─────────────────────────────┴─────────────────┘\n",
              "</pre>\n"
            ]
          },
          "metadata": {}
        },
        {
          "output_type": "display_data",
          "data": {
            "text/plain": [
              "\u001b[1m Total params: \u001b[0m\u001b[38;5;34m27,104\u001b[0m (105.88 KB)\n"
            ],
            "text/html": [
              "<pre style=\"white-space:pre;overflow-x:auto;line-height:normal;font-family:Menlo,'DejaVu Sans Mono',consolas,'Courier New',monospace\"><span style=\"font-weight: bold\"> Total params: </span><span style=\"color: #00af00; text-decoration-color: #00af00\">27,104</span> (105.88 KB)\n",
              "</pre>\n"
            ]
          },
          "metadata": {}
        },
        {
          "output_type": "display_data",
          "data": {
            "text/plain": [
              "\u001b[1m Trainable params: \u001b[0m\u001b[38;5;34m9,034\u001b[0m (35.29 KB)\n"
            ],
            "text/html": [
              "<pre style=\"white-space:pre;overflow-x:auto;line-height:normal;font-family:Menlo,'DejaVu Sans Mono',consolas,'Courier New',monospace\"><span style=\"font-weight: bold\"> Trainable params: </span><span style=\"color: #00af00; text-decoration-color: #00af00\">9,034</span> (35.29 KB)\n",
              "</pre>\n"
            ]
          },
          "metadata": {}
        },
        {
          "output_type": "display_data",
          "data": {
            "text/plain": [
              "\u001b[1m Non-trainable params: \u001b[0m\u001b[38;5;34m0\u001b[0m (0.00 B)\n"
            ],
            "text/html": [
              "<pre style=\"white-space:pre;overflow-x:auto;line-height:normal;font-family:Menlo,'DejaVu Sans Mono',consolas,'Courier New',monospace\"><span style=\"font-weight: bold\"> Non-trainable params: </span><span style=\"color: #00af00; text-decoration-color: #00af00\">0</span> (0.00 B)\n",
              "</pre>\n"
            ]
          },
          "metadata": {}
        },
        {
          "output_type": "display_data",
          "data": {
            "text/plain": [
              "\u001b[1m Optimizer params: \u001b[0m\u001b[38;5;34m18,070\u001b[0m (70.59 KB)\n"
            ],
            "text/html": [
              "<pre style=\"white-space:pre;overflow-x:auto;line-height:normal;font-family:Menlo,'DejaVu Sans Mono',consolas,'Courier New',monospace\"><span style=\"font-weight: bold\"> Optimizer params: </span><span style=\"color: #00af00; text-decoration-color: #00af00\">18,070</span> (70.59 KB)\n",
              "</pre>\n"
            ]
          },
          "metadata": {}
        }
      ]
    },
    {
      "cell_type": "markdown",
      "source": [
        "# **Using TensorFlow JS**"
      ],
      "metadata": {
        "id": "r7JT1AbtYUoX"
      }
    },
    {
      "cell_type": "code",
      "source": [
        "!pip install tensorflowjs"
      ],
      "metadata": {
        "id": "TPlVdiU9YYKd"
      },
      "execution_count": null,
      "outputs": []
    },
    {
      "cell_type": "code",
      "source": [
        "import tensorflow as tf\n",
        "import tensorflowjs as tfjs"
      ],
      "metadata": {
        "id": "mdUlMpLqmZBE"
      },
      "execution_count": null,
      "outputs": []
    },
    {
      "cell_type": "code",
      "source": [
        "class ClusteringLayer(tf.keras.layers.Layer):\n",
        "    def __init__(self, number_of_clusters=10, **kwargs):\n",
        "        super(ClusteringLayer, self).__init__(**kwargs)\n",
        "        self.number_of_clusters = number_of_clusters\n",
        "\n",
        "    def build(self, input_shape):\n",
        "        self.clusters = self.add_weight(shape=(input_shape[-1], self.number_of_clusters),\n",
        "                                         initializer='glorot_uniform',\n",
        "                                         trainable=True,\n",
        "                                         name='clusters')\n",
        "\n",
        "    def call(self, inputs):\n",
        "        return tf.matmul(inputs, self.clusters)"
      ],
      "metadata": {
        "id": "s1zAIq4Omh1t"
      },
      "execution_count": null,
      "outputs": []
    },
    {
      "cell_type": "code",
      "source": [
        "# Assume you have saved your models as model1.h5 and model2.h5\n",
        "custom_objects = {'ClusteringLayer': ClusteringLayer, 'mse': tf.keras.losses.MeanSquaredError}\n",
        "\n",
        "modeljs1 = tf.keras.models.load_model('career_prediction.h5', custom_objects=custom_objects)\n",
        "modeljs2 = tf.keras.models.load_model('encoder_career_prediction.h5')\n",
        "\n",
        "modeljs1.summary()\n",
        "modeljs2.summary()\n",
        "\n",
        "# Convert the models\n",
        "tfjs.converters.save_keras_model(modeljs1, 'model1_tfjs')\n",
        "tfjs.converters.save_keras_model(modeljs2, 'model2_tfjs')"
      ],
      "metadata": {
        "id": "KTLPad8OYbk8",
        "colab": {
          "base_uri": "https://localhost:8080/",
          "height": 495
        },
        "outputId": "f459ac26-1c32-490d-d5a3-6105a934f4b7"
      },
      "execution_count": null,
      "outputs": [
        {
          "output_type": "stream",
          "name": "stderr",
          "text": [
            "WARNING:absl:Compiled the loaded model, but the compiled metrics have yet to be built. `model.compile_metrics` will be empty until you train or evaluate the model.\n"
          ]
        },
        {
          "output_type": "error",
          "ename": "FileNotFoundError",
          "evalue": "[Errno 2] Unable to synchronously open file (unable to open file: name = 'encoder_career_prediction.h5', errno = 2, error message = 'No such file or directory', flags = 0, o_flags = 0)",
          "traceback": [
            "\u001b[0;31m---------------------------------------------------------------------------\u001b[0m",
            "\u001b[0;31mFileNotFoundError\u001b[0m                         Traceback (most recent call last)",
            "\u001b[0;32m<ipython-input-23-f8c2b5be5ddb>\u001b[0m in \u001b[0;36m<cell line: 5>\u001b[0;34m()\u001b[0m\n\u001b[1;32m      3\u001b[0m \u001b[0;34m\u001b[0m\u001b[0m\n\u001b[1;32m      4\u001b[0m \u001b[0mmodeljs1\u001b[0m \u001b[0;34m=\u001b[0m \u001b[0mtf\u001b[0m\u001b[0;34m.\u001b[0m\u001b[0mkeras\u001b[0m\u001b[0;34m.\u001b[0m\u001b[0mmodels\u001b[0m\u001b[0;34m.\u001b[0m\u001b[0mload_model\u001b[0m\u001b[0;34m(\u001b[0m\u001b[0;34m'career_prediction.h5'\u001b[0m\u001b[0;34m,\u001b[0m \u001b[0mcustom_objects\u001b[0m\u001b[0;34m=\u001b[0m\u001b[0mcustom_objects\u001b[0m\u001b[0;34m)\u001b[0m\u001b[0;34m\u001b[0m\u001b[0;34m\u001b[0m\u001b[0m\n\u001b[0;32m----> 5\u001b[0;31m \u001b[0mmodeljs2\u001b[0m \u001b[0;34m=\u001b[0m \u001b[0mtf\u001b[0m\u001b[0;34m.\u001b[0m\u001b[0mkeras\u001b[0m\u001b[0;34m.\u001b[0m\u001b[0mmodels\u001b[0m\u001b[0;34m.\u001b[0m\u001b[0mload_model\u001b[0m\u001b[0;34m(\u001b[0m\u001b[0;34m'encoder_career_prediction.h5'\u001b[0m\u001b[0;34m)\u001b[0m\u001b[0;34m\u001b[0m\u001b[0;34m\u001b[0m\u001b[0m\n\u001b[0m\u001b[1;32m      6\u001b[0m \u001b[0;34m\u001b[0m\u001b[0m\n\u001b[1;32m      7\u001b[0m \u001b[0mmodeljs1\u001b[0m\u001b[0;34m.\u001b[0m\u001b[0msummary\u001b[0m\u001b[0;34m(\u001b[0m\u001b[0;34m)\u001b[0m\u001b[0;34m\u001b[0m\u001b[0;34m\u001b[0m\u001b[0m\n",
            "\u001b[0;32m/usr/local/lib/python3.10/dist-packages/keras/src/saving/saving_api.py\u001b[0m in \u001b[0;36mload_model\u001b[0;34m(filepath, custom_objects, compile, safe_mode)\u001b[0m\n\u001b[1;32m    181\u001b[0m         )\n\u001b[1;32m    182\u001b[0m     \u001b[0;32mif\u001b[0m \u001b[0mstr\u001b[0m\u001b[0;34m(\u001b[0m\u001b[0mfilepath\u001b[0m\u001b[0;34m)\u001b[0m\u001b[0;34m.\u001b[0m\u001b[0mendswith\u001b[0m\u001b[0;34m(\u001b[0m\u001b[0;34m(\u001b[0m\u001b[0;34m\".h5\"\u001b[0m\u001b[0;34m,\u001b[0m \u001b[0;34m\".hdf5\"\u001b[0m\u001b[0;34m)\u001b[0m\u001b[0;34m)\u001b[0m\u001b[0;34m:\u001b[0m\u001b[0;34m\u001b[0m\u001b[0;34m\u001b[0m\u001b[0m\n\u001b[0;32m--> 183\u001b[0;31m         return legacy_h5_format.load_model_from_hdf5(\n\u001b[0m\u001b[1;32m    184\u001b[0m             \u001b[0mfilepath\u001b[0m\u001b[0;34m,\u001b[0m \u001b[0mcustom_objects\u001b[0m\u001b[0;34m=\u001b[0m\u001b[0mcustom_objects\u001b[0m\u001b[0;34m,\u001b[0m \u001b[0mcompile\u001b[0m\u001b[0;34m=\u001b[0m\u001b[0mcompile\u001b[0m\u001b[0;34m\u001b[0m\u001b[0;34m\u001b[0m\u001b[0m\n\u001b[1;32m    185\u001b[0m         )\n",
            "\u001b[0;32m/usr/local/lib/python3.10/dist-packages/keras/src/legacy/saving/legacy_h5_format.py\u001b[0m in \u001b[0;36mload_model_from_hdf5\u001b[0;34m(filepath, custom_objects, compile)\u001b[0m\n\u001b[1;32m    114\u001b[0m     \u001b[0mopened_new_file\u001b[0m \u001b[0;34m=\u001b[0m \u001b[0;32mnot\u001b[0m \u001b[0misinstance\u001b[0m\u001b[0;34m(\u001b[0m\u001b[0mfilepath\u001b[0m\u001b[0;34m,\u001b[0m \u001b[0mh5py\u001b[0m\u001b[0;34m.\u001b[0m\u001b[0mFile\u001b[0m\u001b[0;34m)\u001b[0m\u001b[0;34m\u001b[0m\u001b[0;34m\u001b[0m\u001b[0m\n\u001b[1;32m    115\u001b[0m     \u001b[0;32mif\u001b[0m \u001b[0mopened_new_file\u001b[0m\u001b[0;34m:\u001b[0m\u001b[0;34m\u001b[0m\u001b[0;34m\u001b[0m\u001b[0m\n\u001b[0;32m--> 116\u001b[0;31m         \u001b[0mf\u001b[0m \u001b[0;34m=\u001b[0m \u001b[0mh5py\u001b[0m\u001b[0;34m.\u001b[0m\u001b[0mFile\u001b[0m\u001b[0;34m(\u001b[0m\u001b[0mfilepath\u001b[0m\u001b[0;34m,\u001b[0m \u001b[0mmode\u001b[0m\u001b[0;34m=\u001b[0m\u001b[0;34m\"r\"\u001b[0m\u001b[0;34m)\u001b[0m\u001b[0;34m\u001b[0m\u001b[0;34m\u001b[0m\u001b[0m\n\u001b[0m\u001b[1;32m    117\u001b[0m     \u001b[0;32melse\u001b[0m\u001b[0;34m:\u001b[0m\u001b[0;34m\u001b[0m\u001b[0;34m\u001b[0m\u001b[0m\n\u001b[1;32m    118\u001b[0m         \u001b[0mf\u001b[0m \u001b[0;34m=\u001b[0m \u001b[0mfilepath\u001b[0m\u001b[0;34m\u001b[0m\u001b[0;34m\u001b[0m\u001b[0m\n",
            "\u001b[0;32m/usr/local/lib/python3.10/dist-packages/h5py/_hl/files.py\u001b[0m in \u001b[0;36m__init__\u001b[0;34m(self, name, mode, driver, libver, userblock_size, swmr, rdcc_nslots, rdcc_nbytes, rdcc_w0, track_order, fs_strategy, fs_persist, fs_threshold, fs_page_size, page_buf_size, min_meta_keep, min_raw_keep, locking, alignment_threshold, alignment_interval, meta_block_size, **kwds)\u001b[0m\n\u001b[1;32m    560\u001b[0m                                  \u001b[0mfs_persist\u001b[0m\u001b[0;34m=\u001b[0m\u001b[0mfs_persist\u001b[0m\u001b[0;34m,\u001b[0m \u001b[0mfs_threshold\u001b[0m\u001b[0;34m=\u001b[0m\u001b[0mfs_threshold\u001b[0m\u001b[0;34m,\u001b[0m\u001b[0;34m\u001b[0m\u001b[0;34m\u001b[0m\u001b[0m\n\u001b[1;32m    561\u001b[0m                                  fs_page_size=fs_page_size)\n\u001b[0;32m--> 562\u001b[0;31m                 \u001b[0mfid\u001b[0m \u001b[0;34m=\u001b[0m \u001b[0mmake_fid\u001b[0m\u001b[0;34m(\u001b[0m\u001b[0mname\u001b[0m\u001b[0;34m,\u001b[0m \u001b[0mmode\u001b[0m\u001b[0;34m,\u001b[0m \u001b[0muserblock_size\u001b[0m\u001b[0;34m,\u001b[0m \u001b[0mfapl\u001b[0m\u001b[0;34m,\u001b[0m \u001b[0mfcpl\u001b[0m\u001b[0;34m,\u001b[0m \u001b[0mswmr\u001b[0m\u001b[0;34m=\u001b[0m\u001b[0mswmr\u001b[0m\u001b[0;34m)\u001b[0m\u001b[0;34m\u001b[0m\u001b[0;34m\u001b[0m\u001b[0m\n\u001b[0m\u001b[1;32m    563\u001b[0m \u001b[0;34m\u001b[0m\u001b[0m\n\u001b[1;32m    564\u001b[0m             \u001b[0;32mif\u001b[0m \u001b[0misinstance\u001b[0m\u001b[0;34m(\u001b[0m\u001b[0mlibver\u001b[0m\u001b[0;34m,\u001b[0m \u001b[0mtuple\u001b[0m\u001b[0;34m)\u001b[0m\u001b[0;34m:\u001b[0m\u001b[0;34m\u001b[0m\u001b[0;34m\u001b[0m\u001b[0m\n",
            "\u001b[0;32m/usr/local/lib/python3.10/dist-packages/h5py/_hl/files.py\u001b[0m in \u001b[0;36mmake_fid\u001b[0;34m(name, mode, userblock_size, fapl, fcpl, swmr)\u001b[0m\n\u001b[1;32m    233\u001b[0m         \u001b[0;32mif\u001b[0m \u001b[0mswmr\u001b[0m \u001b[0;32mand\u001b[0m \u001b[0mswmr_support\u001b[0m\u001b[0;34m:\u001b[0m\u001b[0;34m\u001b[0m\u001b[0;34m\u001b[0m\u001b[0m\n\u001b[1;32m    234\u001b[0m             \u001b[0mflags\u001b[0m \u001b[0;34m|=\u001b[0m \u001b[0mh5f\u001b[0m\u001b[0;34m.\u001b[0m\u001b[0mACC_SWMR_READ\u001b[0m\u001b[0;34m\u001b[0m\u001b[0;34m\u001b[0m\u001b[0m\n\u001b[0;32m--> 235\u001b[0;31m         \u001b[0mfid\u001b[0m \u001b[0;34m=\u001b[0m \u001b[0mh5f\u001b[0m\u001b[0;34m.\u001b[0m\u001b[0mopen\u001b[0m\u001b[0;34m(\u001b[0m\u001b[0mname\u001b[0m\u001b[0;34m,\u001b[0m \u001b[0mflags\u001b[0m\u001b[0;34m,\u001b[0m \u001b[0mfapl\u001b[0m\u001b[0;34m=\u001b[0m\u001b[0mfapl\u001b[0m\u001b[0;34m)\u001b[0m\u001b[0;34m\u001b[0m\u001b[0;34m\u001b[0m\u001b[0m\n\u001b[0m\u001b[1;32m    236\u001b[0m     \u001b[0;32melif\u001b[0m \u001b[0mmode\u001b[0m \u001b[0;34m==\u001b[0m \u001b[0;34m'r+'\u001b[0m\u001b[0;34m:\u001b[0m\u001b[0;34m\u001b[0m\u001b[0;34m\u001b[0m\u001b[0m\n\u001b[1;32m    237\u001b[0m         \u001b[0mfid\u001b[0m \u001b[0;34m=\u001b[0m \u001b[0mh5f\u001b[0m\u001b[0;34m.\u001b[0m\u001b[0mopen\u001b[0m\u001b[0;34m(\u001b[0m\u001b[0mname\u001b[0m\u001b[0;34m,\u001b[0m \u001b[0mh5f\u001b[0m\u001b[0;34m.\u001b[0m\u001b[0mACC_RDWR\u001b[0m\u001b[0;34m,\u001b[0m \u001b[0mfapl\u001b[0m\u001b[0;34m=\u001b[0m\u001b[0mfapl\u001b[0m\u001b[0;34m)\u001b[0m\u001b[0;34m\u001b[0m\u001b[0;34m\u001b[0m\u001b[0m\n",
            "\u001b[0;32mh5py/_objects.pyx\u001b[0m in \u001b[0;36mh5py._objects.with_phil.wrapper\u001b[0;34m()\u001b[0m\n",
            "\u001b[0;32mh5py/_objects.pyx\u001b[0m in \u001b[0;36mh5py._objects.with_phil.wrapper\u001b[0;34m()\u001b[0m\n",
            "\u001b[0;32mh5py/h5f.pyx\u001b[0m in \u001b[0;36mh5py.h5f.open\u001b[0;34m()\u001b[0m\n",
            "\u001b[0;31mFileNotFoundError\u001b[0m: [Errno 2] Unable to synchronously open file (unable to open file: name = 'encoder_career_prediction.h5', errno = 2, error message = 'No such file or directory', flags = 0, o_flags = 0)"
          ]
        }
      ]
    },
    {
      "cell_type": "code",
      "source": [
        "import tensorflow as tf\n",
        "import tensorflowjs as tfjs\n",
        "\n",
        "# Define the custom objects with ClusteringLayer and MeanSquaredError\n",
        "class ClusteringLayer(tf.keras.layers.Layer):\n",
        "    def __init__(self, number_of_clusters=10, **kwargs):\n",
        "        super(ClusteringLayer, self).__init__(**kwargs)\n",
        "        self.number_of_clusters = number_of_clusters\n",
        "\n",
        "    def build(self, input_shape):\n",
        "        self.clusters = self.add_weight(shape=(input_shape[-1], self.number_of_clusters),\n",
        "                                         initializer='glorot_uniform',\n",
        "                                         trainable=True,\n",
        "                                         name='clusters')\n",
        "\n",
        "    def call(self, inputs):\n",
        "        return tf.matmul(inputs, self.clusters)\n",
        "\n",
        "# Use tf.keras.losses.MeanSquaredError as the custom object\n",
        "custom_objects = {'ClusteringLayer': ClusteringLayer, 'mse': 'mse'}\n",
        "\n",
        "# Load the models\n",
        "modeljs1 = tf.keras.models.load_model('career_prediction.h5', custom_objects=custom_objects)\n",
        "modeljs2 = tf.keras.models.load_model('encoder_career_prediction.h5', custom_objects=custom_objects)\n",
        "\n",
        "# Print summaries of the loaded models\n",
        "modeljs1.summary()\n",
        "modeljs2.summary()\n",
        "\n",
        "# Convert the models to TensorFlow.js format\n",
        "tfjs.converters.save_keras_model(modeljs1, 'model1_tfjs')\n",
        "tfjs.converters.save_keras_model(modeljs2, 'model2_tfjs')\n"
      ],
      "metadata": {
        "id": "cmgtsULzYeJg"
      },
      "execution_count": null,
      "outputs": []
    },
    {
      "cell_type": "code",
      "source": [],
      "metadata": {
        "id": "Us0tZQJAmxqF"
      },
      "execution_count": null,
      "outputs": []
    },
    {
      "cell_type": "code",
      "source": [
        "from tensorflow import keras\n",
        "\n",
        "model = keras.models.load_model('career_prediction.h5')"
      ],
      "metadata": {
        "id": "thB1Z3jSHBgL"
      },
      "execution_count": null,
      "outputs": []
    },
    {
      "cell_type": "code",
      "source": [
        "import tensorflow as tf\n",
        "\n",
        "converter = tf.lite.TFLiteConverter.from_keras_model(model)\n",
        "tflite_model = converter.convert()"
      ],
      "metadata": {
        "id": "5A0YRcFAHB1F"
      },
      "execution_count": null,
      "outputs": []
    },
    {
      "cell_type": "code",
      "source": [
        "with open('career_prediction_model.tflite', 'wb') as f:\n",
        "    f.write(tflite_model)\n",
        "\n",
        "print(\"Model saved to career_prediction_model.tflite\")"
      ],
      "metadata": {
        "colab": {
          "base_uri": "https://localhost:8080/"
        },
        "id": "h7pLOyDMHH9F",
        "outputId": "e2f2273f-491a-4ea4-b893-f3c502a558d9"
      },
      "execution_count": null,
      "outputs": [
        {
          "output_type": "stream",
          "name": "stdout",
          "text": [
            "Model saved to career_prediction_model.tflite\n"
          ]
        }
      ]
    },
    {
      "cell_type": "code",
      "source": [
        "import tensorflow as tf\n",
        "\n",
        "# Load your model (if it's not already loaded)\n",
        "model = tf.keras.models.load_model('/content/career_prediction.h5')\n",
        "\n",
        "# Save the model as a SavedModel\n",
        "tf.saved_model.save(model, '/path/to/saved_model')\n"
      ],
      "metadata": {
        "colab": {
          "base_uri": "https://localhost:8080/"
        },
        "id": "c5_hfSYMQwxY",
        "outputId": "bedf90cf-245f-48f7-f4ae-594ef638072b"
      },
      "execution_count": null,
      "outputs": [
        {
          "output_type": "stream",
          "name": "stderr",
          "text": [
            "WARNING:absl:Compiled the loaded model, but the compiled metrics have yet to be built. `model.compile_metrics` will be empty until you train or evaluate the model.\n"
          ]
        }
      ]
    },
    {
      "cell_type": "code",
      "source": [
        "import subprocess\n",
        "\n",
        "command = [\n",
        "    'tensorflowjs_converter',\n",
        "    '--input_format=tf_saved_model',\n",
        "    '--output_format=tfjs_graph_model',\n",
        "    '/path/to/saved_model',\n",
        "    '/path/to/save/tfjs_model'\n",
        "]\n",
        "\n",
        "result = subprocess.run(command, capture_output=True, text=True)\n",
        "\n",
        "print(\"Return code:\", result.returncode)\n",
        "print(\"stdout:\", result.stdout)\n",
        "print(\"stderr:\", result.stderr)\n"
      ],
      "metadata": {
        "colab": {
          "base_uri": "https://localhost:8080/"
        },
        "id": "bFSYrtUmHKyz",
        "outputId": "587744b8-3284-4ccc-a00b-d25d4800d292"
      },
      "execution_count": null,
      "outputs": [
        {
          "output_type": "stream",
          "name": "stdout",
          "text": [
            "Return code: 0\n",
            "stdout: \n",
            "stderr: 2024-06-14 15:00:47.802454: W tensorflow/compiler/tf2tensorrt/utils/py_utils.cc:38] TF-TRT Warning: Could not find TensorRT\n",
            "2024-06-14 15:00:50.221435: W tensorflow/core/common_runtime/gpu/gpu_bfc_allocator.cc:47] Overriding orig_value setting because the TF_FORCE_GPU_ALLOW_GROWTH environment variable is set. Original config value was 0.\n",
            "\n"
          ]
        }
      ]
    },
    {
      "cell_type": "code",
      "source": [
        "import tensorflow as tf\n",
        "\n",
        "# Convert the TensorFlow model to TensorFlow.js format\n",
        "converter = tf.converter.saved_model.convert(\n",
        "    tf.saved_model.load('career_prediction'),\n",
        "    './web_model',\n",
        "    input_arrays=['input_1'],\n",
        "    output_arrays=['dense_1'],\n",
        "    user_bindings=[\n",
        "        tf.converter.saved_model.UserBinding(\n",
        "            tf.TensorSpec(shape=[None, 10], dtype=tf.float32, name='input_1'),\n",
        "            lambda: tf.random.normal(shape=[1, 10])\n",
        "        )\n",
        "    ]\n",
        ")\n",
        "\n",
        "print(\"Model converted to TensorFlow.js format\")"
      ],
      "metadata": {
        "colab": {
          "base_uri": "https://localhost:8080/"
        },
        "id": "mMgz9ZZjNEuR",
        "outputId": "9b754ce1-e726-46e0-c7c6-dce00ab84c72"
      },
      "execution_count": null,
      "outputs": [
        {
          "output_type": "stream",
          "name": "stdout",
          "text": [
            "Model Summary\n",
            "==============\n",
            "\n",
            "Inputs:\n",
            "  Name: serving_default_input_1:0, Shape: [ 1 10], Type: <class 'numpy.float32'>\n",
            "\n",
            "Outputs:\n",
            "  Name: StatefulPartitionedCall:0, Shape: [ 1 10], Type: <class 'numpy.float32'>\n",
            "\n",
            "Layers:\n",
            "  Name: serving_default_input_1:0, Shape: [ 1 10], Type: <class 'numpy.float32'>\n",
            "  Name: model/conv1d/BiasAdd/ReadVariableOp, Shape: [32], Type: <class 'numpy.float32'>\n",
            "  Name: model/conv1d/Conv1D/Squeeze, Shape: [3], Type: <class 'numpy.int32'>\n",
            "  Name: model/conv1d/Conv1D, Shape: [32  1  3  1], Type: <class 'numpy.float32'>\n",
            "  Name: model/dense/BiasAdd/ReadVariableOp, Shape: [64], Type: <class 'numpy.float32'>\n",
            "  Name: model/dense_1/BiasAdd/ReadVariableOp, Shape: [10], Type: <class 'numpy.float32'>\n",
            "  Name: model/reshape/strided_slice/stack_1, Shape: [1], Type: <class 'numpy.int32'>\n",
            "  Name: model/reshape/strided_slice/stack, Shape: [1], Type: <class 'numpy.int32'>\n",
            "  Name: model/reshape/Reshape/shape/2, Shape: [], Type: <class 'numpy.int32'>\n",
            "  Name: model/reshape/Reshape/shape/1, Shape: [], Type: <class 'numpy.int32'>\n",
            "  Name: model/max_pooling1d/ExpandDims/dim, Shape: [], Type: <class 'numpy.int32'>\n",
            "  Name: model/flatten/Const, Shape: [2], Type: <class 'numpy.int32'>\n",
            "  Name: model/conv1d/Conv1D/ExpandDims/dim, Shape: [], Type: <class 'numpy.int32'>\n",
            "  Name: model/dense/MatMul, Shape: [ 64 128], Type: <class 'numpy.float32'>\n",
            "  Name: model/dense_1/MatMul, Shape: [10 64], Type: <class 'numpy.float32'>\n",
            "  Name: model/reshape/Shape, Shape: [2], Type: <class 'numpy.int32'>\n",
            "  Name: model/reshape/strided_slice, Shape: [], Type: <class 'numpy.int32'>\n",
            "  Name: model/reshape/Reshape/shape, Shape: [3], Type: <class 'numpy.int32'>\n",
            "  Name: model/reshape/Reshape, Shape: [ 1 10  1], Type: <class 'numpy.float32'>\n",
            "  Name: model/conv1d/Conv1D/ExpandDims, Shape: [ 1  1 10  1], Type: <class 'numpy.float32'>\n",
            "  Name: model/conv1d/Relu;model/conv1d/BiasAdd;model/conv1d/Conv1D/Squeeze;model/conv1d/BiasAdd/ReadVariableOp;model/conv1d/Conv1D, Shape: [ 1  1  8 32], Type: <class 'numpy.float32'>\n",
            "  Name: model/conv1d/Relu;model/conv1d/BiasAdd;model/conv1d/Conv1D/Squeeze;model/conv1d/BiasAdd/ReadVariableOp, Shape: [ 1  8 32], Type: <class 'numpy.float32'>\n",
            "  Name: model/max_pooling1d/ExpandDims, Shape: [ 1  8  1 32], Type: <class 'numpy.float32'>\n",
            "  Name: model/max_pooling1d/MaxPool, Shape: [ 1  4  1 32], Type: <class 'numpy.float32'>\n",
            "  Name: model/flatten/Reshape, Shape: [  1 128], Type: <class 'numpy.float32'>\n",
            "  Name: model/dense/MatMul;model/dense/Relu;model/dense/BiasAdd, Shape: [ 1 64], Type: <class 'numpy.float32'>\n",
            "  Name: StatefulPartitionedCall:0, Shape: [ 1 10], Type: <class 'numpy.float32'>\n"
          ]
        }
      ]
    },
    {
      "cell_type": "code",
      "source": [
        "import tensorflow as tf\n",
        "\n",
        "# Load the TFLite model\n",
        "tflite_model_path = '/content/career_prediction_model.tflite'\n",
        "interpreter = tf.lite.Interpreter(model_path=tflite_model_path)\n",
        "interpreter.allocate_tensors()\n",
        "\n",
        "# Get input and output tensors\n",
        "input_details = interpreter.get_input_details()\n",
        "output_details = interpreter.get_output_details()\n",
        "\n",
        "print(\"Model Summary:\")\n",
        "print(\"Inputs:\")\n",
        "for detail in input_details:\n",
        "    print(detail)\n",
        "\n",
        "print(\"\\nOutputs:\")\n",
        "for detail in output_details:\n",
        "    print(detail)\n"
      ],
      "metadata": {
        "colab": {
          "base_uri": "https://localhost:8080/"
        },
        "id": "--Ccq7QNPv66",
        "outputId": "35e3d10d-57d2-4538-9985-e892d64a1da2"
      },
      "execution_count": null,
      "outputs": [
        {
          "output_type": "stream",
          "name": "stdout",
          "text": [
            "Model Summary:\n",
            "Inputs:\n",
            "{'name': 'serving_default_input_1:0', 'index': 0, 'shape': array([ 1, 10], dtype=int32), 'shape_signature': array([-1, 10], dtype=int32), 'dtype': <class 'numpy.float32'>, 'quantization': (0.0, 0), 'quantization_parameters': {'scales': array([], dtype=float32), 'zero_points': array([], dtype=int32), 'quantized_dimension': 0}, 'sparsity_parameters': {}}\n",
            "\n",
            "Outputs:\n",
            "{'name': 'StatefulPartitionedCall:0', 'index': 26, 'shape': array([ 1, 10], dtype=int32), 'shape_signature': array([-1, 10], dtype=int32), 'dtype': <class 'numpy.float32'>, 'quantization': (0.0, 0), 'quantization_parameters': {'scales': array([], dtype=float32), 'zero_points': array([], dtype=int32), 'quantized_dimension': 0}, 'sparsity_parameters': {}}\n"
          ]
        }
      ]
    },
    {
      "cell_type": "code",
      "source": [],
      "metadata": {
        "id": "xQJXGZvOTds1"
      },
      "execution_count": null,
      "outputs": []
    }
  ]
}