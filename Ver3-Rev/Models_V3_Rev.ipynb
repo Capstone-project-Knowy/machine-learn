{
  "cells": [
    {
      "cell_type": "markdown",
      "metadata": {
        "id": "uZWAikqdI5aR"
      },
      "source": [
        "# ***Clustering Models for kNowy***"
      ]
    },
    {
      "cell_type": "markdown",
      "metadata": {
        "id": "0COQQSESI-YJ"
      },
      "source": [
        "# Setting the environment"
      ]
    },
    {
      "cell_type": "code",
      "execution_count": null,
      "metadata": {
        "colab": {
          "background_save": true,
          "base_uri": "https://localhost:8080/"
        },
        "id": "_UONXa4PI44B",
        "outputId": "a0f66a9b-ec6b-47f3-b1ef-9a39afa91d3f"
      },
      "outputs": [
        {
          "name": "stdout",
          "output_type": "stream",
          "text": [
            "Collecting tensorflow-model-optimization\n",
            "  Downloading tensorflow_model_optimization-0.8.0-py2.py3-none-any.whl (242 kB)\n",
            "\u001b[?25l     \u001b[90m━━━━━━━━━━━━━━━━━━━━━━━━━━━━━━━━━━━━━━━━\u001b[0m \u001b[32m0.0/242.5 kB\u001b[0m \u001b[31m?\u001b[0m eta \u001b[36m-:--:--\u001b[0m\r\u001b[2K     \u001b[91m━━━━━━━━━━━━━━━━━━━━━\u001b[0m\u001b[91m╸\u001b[0m\u001b[90m━━━━━━━━━━━━━━━━━━\u001b[0m \u001b[32m133.1/242.5 kB\u001b[0m \u001b[31m3.8 MB/s\u001b[0m eta \u001b[36m0:00:01\u001b[0m\r\u001b[2K     \u001b[91m━━━━━━━━━━━━━━━━━━━━━━━━━━━━━━━━━━━━━━\u001b[0m\u001b[91m╸\u001b[0m\u001b[90m━\u001b[0m \u001b[32m235.5/242.5 kB\u001b[0m \u001b[31m4.3 MB/s\u001b[0m eta \u001b[36m0:00:01\u001b[0m\r\u001b[2K     \u001b[90m━━━━━━━━━━━━━━━━━━━━━━━━━━━━━━━━━━━━━━━━\u001b[0m \u001b[32m242.5/242.5 kB\u001b[0m \u001b[31m3.2 MB/s\u001b[0m eta \u001b[36m0:00:00\u001b[0m\n",
            "\u001b[?25hRequirement already satisfied: absl-py~=1.2 in /usr/local/lib/python3.10/dist-packages (from tensorflow-model-optimization) (1.4.0)\n",
            "Requirement already satisfied: dm-tree~=0.1.1 in /usr/local/lib/python3.10/dist-packages (from tensorflow-model-optimization) (0.1.8)\n",
            "Requirement already satisfied: numpy~=1.23 in /usr/local/lib/python3.10/dist-packages (from tensorflow-model-optimization) (1.25.2)\n",
            "Requirement already satisfied: six~=1.14 in /usr/local/lib/python3.10/dist-packages (from tensorflow-model-optimization) (1.16.0)\n",
            "Installing collected packages: tensorflow-model-optimization\n",
            "Successfully installed tensorflow-model-optimization-0.8.0\n"
          ]
        }
      ],
      "source": [
        "!pip install tensorflow-model-optimization"
      ]
    },
    {
      "cell_type": "code",
      "execution_count": null,
      "metadata": {
        "colab": {
          "background_save": true
        },
        "id": "srZQUNBVJEgZ"
      },
      "outputs": [],
      "source": [
        "import numpy as np\n",
        "import pandas as pd\n",
        "import tensorflow as tf\n",
        "from tensorflow import keras\n",
        "from tensorflow.keras import layers\n",
        "from sklearn.preprocessing import StandardScaler\n",
        "from sklearn.cluster import KMeans\n",
        "from sklearn.metrics import adjusted_rand_score"
      ]
    },
    {
      "cell_type": "markdown",
      "metadata": {
        "id": "l7Mo-TsVJRCa"
      },
      "source": [
        "# Read the data"
      ]
    },
    {
      "cell_type": "code",
      "execution_count": null,
      "metadata": {
        "colab": {
          "background_save": true
        },
        "id": "RPDjIvpjJY0h"
      },
      "outputs": [],
      "source": [
        "url = 'https://raw.githubusercontent.com/Capstone-project-Knowy/machine-learn/main/Dataset/Data_final.csv'\n",
        "\n",
        "data = pd.read_csv(url)\n",
        "\n",
        "x = data.drop(columns=['Career'])\n",
        "y = data['Career']"
      ]
    },
    {
      "cell_type": "markdown",
      "metadata": {
        "id": "AnFCcutDJeVy"
      },
      "source": [
        "# Standardize the data using StandardScaler"
      ]
    },
    {
      "cell_type": "code",
      "execution_count": null,
      "metadata": {
        "colab": {
          "background_save": true
        },
        "id": "y8_BY8SJJeJ4"
      },
      "outputs": [],
      "source": [
        "scaler = StandardScaler()\n",
        "x_scaled = scaler.fit_transform(x)"
      ]
    },
    {
      "cell_type": "markdown",
      "metadata": {
        "id": "DzqgVVwNJmux"
      },
      "source": [
        "# Creating AutoEncoder Models"
      ]
    },
    {
      "cell_type": "code",
      "execution_count": null,
      "metadata": {
        "colab": {
          "background_save": true
        },
        "id": "lifMJbmsJd-I"
      },
      "outputs": [],
      "source": [
        "input_shape = (10,)\n",
        "inputs = keras.Input(shape=input_shape)\n",
        "x = layers.Reshape((10, 1))(inputs)  # reshape input to (10, 1)\n",
        "x = layers.Conv1D(32, kernel_size=3, activation='relu')(x)  # 1D convolutional layer\n",
        "x = layers.MaxPooling1D(pool_size=2)(x)  # max pooling layer\n",
        "x = layers.Flatten()(x)  # flatten output\n",
        "x = layers.Dense(64, activation='relu')(x)  # dense layer\n",
        "outputs = layers.Dense(10, activation='linear')(x)  # output layer for reconstruction"
      ]
    },
    {
      "cell_type": "markdown",
      "metadata": {
        "id": "aHjIXRYhKFSy"
      },
      "source": [
        "# Compile and Training the models"
      ]
    },
    {
      "cell_type": "code",
      "execution_count": null,
      "metadata": {
        "colab": {
          "background_save": true,
          "base_uri": "https://localhost:8080/"
        },
        "id": "f_F5-Wd2J7pq",
        "outputId": "f36c20ba-7536-489c-c022-ff98674ff395"
      },
      "outputs": [
        {
          "name": "stdout",
          "output_type": "stream",
          "text": [
            "Epoch 1/50\n",
            "7/7 - 6s - loss: 0.9640 - accuracy: 0.1333 - 6s/epoch - 832ms/step\n",
            "Epoch 2/50\n",
            "7/7 - 0s - loss: 0.8133 - accuracy: 0.4762 - 22ms/epoch - 3ms/step\n",
            "Epoch 3/50\n",
            "7/7 - 0s - loss: 0.6996 - accuracy: 0.5714 - 22ms/epoch - 3ms/step\n",
            "Epoch 4/50\n",
            "7/7 - 0s - loss: 0.5945 - accuracy: 0.6000 - 22ms/epoch - 3ms/step\n",
            "Epoch 5/50\n",
            "7/7 - 0s - loss: 0.5000 - accuracy: 0.6667 - 22ms/epoch - 3ms/step\n",
            "Epoch 6/50\n",
            "7/7 - 0s - loss: 0.4247 - accuracy: 0.6667 - 21ms/epoch - 3ms/step\n",
            "Epoch 7/50\n",
            "7/7 - 0s - loss: 0.3705 - accuracy: 0.7143 - 23ms/epoch - 3ms/step\n",
            "Epoch 8/50\n",
            "7/7 - 0s - loss: 0.3282 - accuracy: 0.7143 - 22ms/epoch - 3ms/step\n",
            "Epoch 9/50\n",
            "7/7 - 0s - loss: 0.2925 - accuracy: 0.7524 - 29ms/epoch - 4ms/step\n",
            "Epoch 10/50\n",
            "7/7 - 0s - loss: 0.2612 - accuracy: 0.7905 - 27ms/epoch - 4ms/step\n",
            "Epoch 11/50\n",
            "7/7 - 0s - loss: 0.2316 - accuracy: 0.8095 - 27ms/epoch - 4ms/step\n",
            "Epoch 12/50\n",
            "7/7 - 0s - loss: 0.2077 - accuracy: 0.7810 - 22ms/epoch - 3ms/step\n",
            "Epoch 13/50\n",
            "7/7 - 0s - loss: 0.1857 - accuracy: 0.7905 - 22ms/epoch - 3ms/step\n",
            "Epoch 14/50\n",
            "7/7 - 0s - loss: 0.1671 - accuracy: 0.7810 - 23ms/epoch - 3ms/step\n",
            "Epoch 15/50\n",
            "7/7 - 0s - loss: 0.1523 - accuracy: 0.8190 - 22ms/epoch - 3ms/step\n",
            "Epoch 16/50\n",
            "7/7 - 0s - loss: 0.1387 - accuracy: 0.8095 - 23ms/epoch - 3ms/step\n",
            "Epoch 17/50\n",
            "7/7 - 0s - loss: 0.1254 - accuracy: 0.8190 - 23ms/epoch - 3ms/step\n",
            "Epoch 18/50\n",
            "7/7 - 0s - loss: 0.1159 - accuracy: 0.8286 - 23ms/epoch - 3ms/step\n",
            "Epoch 19/50\n",
            "7/7 - 0s - loss: 0.1068 - accuracy: 0.8381 - 23ms/epoch - 3ms/step\n",
            "Epoch 20/50\n",
            "7/7 - 0s - loss: 0.0983 - accuracy: 0.8000 - 27ms/epoch - 4ms/step\n",
            "Epoch 21/50\n",
            "7/7 - 0s - loss: 0.0913 - accuracy: 0.8571 - 27ms/epoch - 4ms/step\n",
            "Epoch 22/50\n",
            "7/7 - 0s - loss: 0.0849 - accuracy: 0.8476 - 22ms/epoch - 3ms/step\n",
            "Epoch 23/50\n",
            "7/7 - 0s - loss: 0.0790 - accuracy: 0.8571 - 23ms/epoch - 3ms/step\n",
            "Epoch 24/50\n",
            "7/7 - 0s - loss: 0.0743 - accuracy: 0.8571 - 23ms/epoch - 3ms/step\n",
            "Epoch 25/50\n",
            "7/7 - 0s - loss: 0.0697 - accuracy: 0.8762 - 22ms/epoch - 3ms/step\n",
            "Epoch 26/50\n",
            "7/7 - 0s - loss: 0.0643 - accuracy: 0.8667 - 22ms/epoch - 3ms/step\n",
            "Epoch 27/50\n",
            "7/7 - 0s - loss: 0.0627 - accuracy: 0.8667 - 22ms/epoch - 3ms/step\n",
            "Epoch 28/50\n",
            "7/7 - 0s - loss: 0.0569 - accuracy: 0.8762 - 23ms/epoch - 3ms/step\n",
            "Epoch 29/50\n",
            "7/7 - 0s - loss: 0.0542 - accuracy: 0.8857 - 23ms/epoch - 3ms/step\n",
            "Epoch 30/50\n",
            "7/7 - 0s - loss: 0.0501 - accuracy: 0.8762 - 22ms/epoch - 3ms/step\n",
            "Epoch 31/50\n",
            "7/7 - 0s - loss: 0.0473 - accuracy: 0.8762 - 23ms/epoch - 3ms/step\n",
            "Epoch 32/50\n",
            "7/7 - 0s - loss: 0.0447 - accuracy: 0.8857 - 26ms/epoch - 4ms/step\n",
            "Epoch 33/50\n",
            "7/7 - 0s - loss: 0.0431 - accuracy: 0.8857 - 24ms/epoch - 3ms/step\n",
            "Epoch 34/50\n",
            "7/7 - 0s - loss: 0.0393 - accuracy: 0.8857 - 22ms/epoch - 3ms/step\n",
            "Epoch 35/50\n",
            "7/7 - 0s - loss: 0.0386 - accuracy: 0.9048 - 22ms/epoch - 3ms/step\n",
            "Epoch 36/50\n",
            "7/7 - 0s - loss: 0.0358 - accuracy: 0.8857 - 24ms/epoch - 3ms/step\n",
            "Epoch 37/50\n",
            "7/7 - 0s - loss: 0.0332 - accuracy: 0.8952 - 23ms/epoch - 3ms/step\n",
            "Epoch 38/50\n",
            "7/7 - 0s - loss: 0.0328 - accuracy: 0.9048 - 22ms/epoch - 3ms/step\n",
            "Epoch 39/50\n",
            "7/7 - 0s - loss: 0.0313 - accuracy: 0.9143 - 23ms/epoch - 3ms/step\n",
            "Epoch 40/50\n",
            "7/7 - 0s - loss: 0.0295 - accuracy: 0.8762 - 24ms/epoch - 3ms/step\n",
            "Epoch 41/50\n",
            "7/7 - 0s - loss: 0.0276 - accuracy: 0.9048 - 23ms/epoch - 3ms/step\n",
            "Epoch 42/50\n",
            "7/7 - 0s - loss: 0.0269 - accuracy: 0.9048 - 22ms/epoch - 3ms/step\n",
            "Epoch 43/50\n",
            "7/7 - 0s - loss: 0.0251 - accuracy: 0.8952 - 23ms/epoch - 3ms/step\n",
            "Epoch 44/50\n",
            "7/7 - 0s - loss: 0.0243 - accuracy: 0.8952 - 22ms/epoch - 3ms/step\n",
            "Epoch 45/50\n",
            "7/7 - 0s - loss: 0.0227 - accuracy: 0.8857 - 26ms/epoch - 4ms/step\n",
            "Epoch 46/50\n",
            "7/7 - 0s - loss: 0.0221 - accuracy: 0.8571 - 28ms/epoch - 4ms/step\n",
            "Epoch 47/50\n",
            "7/7 - 0s - loss: 0.0214 - accuracy: 0.9048 - 29ms/epoch - 4ms/step\n",
            "Epoch 48/50\n",
            "7/7 - 0s - loss: 0.0201 - accuracy: 0.8857 - 30ms/epoch - 4ms/step\n",
            "Epoch 49/50\n",
            "7/7 - 0s - loss: 0.0197 - accuracy: 0.8952 - 30ms/epoch - 4ms/step\n",
            "Epoch 50/50\n",
            "7/7 - 0s - loss: 0.0191 - accuracy: 0.9143 - 27ms/epoch - 4ms/step\n"
          ]
        },
        {
          "data": {
            "text/plain": [
              "<keras.src.callbacks.History at 0x7a45c85dfee0>"
            ]
          },
          "execution_count": 14,
          "metadata": {},
          "output_type": "execute_result"
        }
      ],
      "source": [
        "model = keras.Model(inputs=inputs, outputs=outputs)\n",
        "model.compile(optimizer='adam', loss='mse', metrics=['accuracy'])\n",
        "\n",
        "model.fit(x_scaled, x_scaled, epochs=50, batch_size=16, shuffle=True, verbose=2)"
      ]
    },
    {
      "cell_type": "markdown",
      "metadata": {
        "id": "LWMwHXpdKQmQ"
      },
      "source": [
        "# Extract Encoder part from model and its features"
      ]
    },
    {
      "cell_type": "code",
      "execution_count": null,
      "metadata": {
        "colab": {
          "background_save": true,
          "base_uri": "https://localhost:8080/"
        },
        "id": "08P8z9QEKMtj",
        "outputId": "0b8b42a9-5c49-4776-f188-66ba70c66dd3"
      },
      "outputs": [
        {
          "name": "stdout",
          "output_type": "stream",
          "text": [
            "4/4 [==============================] - 0s 3ms/step\n"
          ]
        }
      ],
      "source": [
        "encoder = keras.Model(inputs=model.input, outputs=model.layers[-3].output)\n",
        "\n",
        "encoded_features = encoder.predict(x_scaled)"
      ]
    },
    {
      "cell_type": "markdown",
      "metadata": {
        "id": "8sSJjuXFKeC7"
      },
      "source": [
        "# Using K-Means Clustering"
      ]
    },
    {
      "cell_type": "code",
      "execution_count": null,
      "metadata": {
        "colab": {
          "background_save": true,
          "base_uri": "https://localhost:8080/",
          "height": 164
        },
        "id": "_NOwRLaUKMnm",
        "outputId": "cd5efdbc-bcb8-4396-ff89-5e75457f3127"
      },
      "outputs": [
        {
          "name": "stderr",
          "output_type": "stream",
          "text": [
            "/usr/local/lib/python3.10/dist-packages/sklearn/cluster/_kmeans.py:870: FutureWarning: The default value of `n_init` will change from 10 to 'auto' in 1.4. Set the value of `n_init` explicitly to suppress the warning\n",
            "  warnings.warn(\n",
            "<ipython-input-16-065f2a3353e7>:3: ConvergenceWarning: Number of distinct clusters (94) found smaller than n_clusters (104). Possibly due to duplicate points in X.\n",
            "  kmeans.fit(encoded_features)\n"
          ]
        },
        {
          "data": {
            "text/html": [
              "<style>#sk-container-id-1 {color: black;background-color: white;}#sk-container-id-1 pre{padding: 0;}#sk-container-id-1 div.sk-toggleable {background-color: white;}#sk-container-id-1 label.sk-toggleable__label {cursor: pointer;display: block;width: 100%;margin-bottom: 0;padding: 0.3em;box-sizing: border-box;text-align: center;}#sk-container-id-1 label.sk-toggleable__label-arrow:before {content: \"▸\";float: left;margin-right: 0.25em;color: #696969;}#sk-container-id-1 label.sk-toggleable__label-arrow:hover:before {color: black;}#sk-container-id-1 div.sk-estimator:hover label.sk-toggleable__label-arrow:before {color: black;}#sk-container-id-1 div.sk-toggleable__content {max-height: 0;max-width: 0;overflow: hidden;text-align: left;background-color: #f0f8ff;}#sk-container-id-1 div.sk-toggleable__content pre {margin: 0.2em;color: black;border-radius: 0.25em;background-color: #f0f8ff;}#sk-container-id-1 input.sk-toggleable__control:checked~div.sk-toggleable__content {max-height: 200px;max-width: 100%;overflow: auto;}#sk-container-id-1 input.sk-toggleable__control:checked~label.sk-toggleable__label-arrow:before {content: \"▾\";}#sk-container-id-1 div.sk-estimator input.sk-toggleable__control:checked~label.sk-toggleable__label {background-color: #d4ebff;}#sk-container-id-1 div.sk-label input.sk-toggleable__control:checked~label.sk-toggleable__label {background-color: #d4ebff;}#sk-container-id-1 input.sk-hidden--visually {border: 0;clip: rect(1px 1px 1px 1px);clip: rect(1px, 1px, 1px, 1px);height: 1px;margin: -1px;overflow: hidden;padding: 0;position: absolute;width: 1px;}#sk-container-id-1 div.sk-estimator {font-family: monospace;background-color: #f0f8ff;border: 1px dotted black;border-radius: 0.25em;box-sizing: border-box;margin-bottom: 0.5em;}#sk-container-id-1 div.sk-estimator:hover {background-color: #d4ebff;}#sk-container-id-1 div.sk-parallel-item::after {content: \"\";width: 100%;border-bottom: 1px solid gray;flex-grow: 1;}#sk-container-id-1 div.sk-label:hover label.sk-toggleable__label {background-color: #d4ebff;}#sk-container-id-1 div.sk-serial::before {content: \"\";position: absolute;border-left: 1px solid gray;box-sizing: border-box;top: 0;bottom: 0;left: 50%;z-index: 0;}#sk-container-id-1 div.sk-serial {display: flex;flex-direction: column;align-items: center;background-color: white;padding-right: 0.2em;padding-left: 0.2em;position: relative;}#sk-container-id-1 div.sk-item {position: relative;z-index: 1;}#sk-container-id-1 div.sk-parallel {display: flex;align-items: stretch;justify-content: center;background-color: white;position: relative;}#sk-container-id-1 div.sk-item::before, #sk-container-id-1 div.sk-parallel-item::before {content: \"\";position: absolute;border-left: 1px solid gray;box-sizing: border-box;top: 0;bottom: 0;left: 50%;z-index: -1;}#sk-container-id-1 div.sk-parallel-item {display: flex;flex-direction: column;z-index: 1;position: relative;background-color: white;}#sk-container-id-1 div.sk-parallel-item:first-child::after {align-self: flex-end;width: 50%;}#sk-container-id-1 div.sk-parallel-item:last-child::after {align-self: flex-start;width: 50%;}#sk-container-id-1 div.sk-parallel-item:only-child::after {width: 0;}#sk-container-id-1 div.sk-dashed-wrapped {border: 1px dashed gray;margin: 0 0.4em 0.5em 0.4em;box-sizing: border-box;padding-bottom: 0.4em;background-color: white;}#sk-container-id-1 div.sk-label label {font-family: monospace;font-weight: bold;display: inline-block;line-height: 1.2em;}#sk-container-id-1 div.sk-label-container {text-align: center;}#sk-container-id-1 div.sk-container {/* jupyter's `normalize.less` sets `[hidden] { display: none; }` but bootstrap.min.css set `[hidden] { display: none !important; }` so we also need the `!important` here to be able to override the default hidden behavior on the sphinx rendered scikit-learn.org. See: https://github.com/scikit-learn/scikit-learn/issues/21755 */display: inline-block !important;position: relative;}#sk-container-id-1 div.sk-text-repr-fallback {display: none;}</style><div id=\"sk-container-id-1\" class=\"sk-top-container\"><div class=\"sk-text-repr-fallback\"><pre>KMeans(n_clusters=104, random_state=42)</pre><b>In a Jupyter environment, please rerun this cell to show the HTML representation or trust the notebook. <br />On GitHub, the HTML representation is unable to render, please try loading this page with nbviewer.org.</b></div><div class=\"sk-container\" hidden><div class=\"sk-item\"><div class=\"sk-estimator sk-toggleable\"><input class=\"sk-toggleable__control sk-hidden--visually\" id=\"sk-estimator-id-1\" type=\"checkbox\" checked><label for=\"sk-estimator-id-1\" class=\"sk-toggleable__label sk-toggleable__label-arrow\">KMeans</label><div class=\"sk-toggleable__content\"><pre>KMeans(n_clusters=104, random_state=42)</pre></div></div></div></div></div>"
            ],
            "text/plain": [
              "KMeans(n_clusters=104, random_state=42)"
            ]
          },
          "execution_count": 16,
          "metadata": {},
          "output_type": "execute_result"
        }
      ],
      "source": [
        "num_clusters = len(np.unique(y))\n",
        "kmeans = KMeans(n_clusters=num_clusters, random_state=42)\n",
        "kmeans.fit(encoded_features)"
      ]
    },
    {
      "cell_type": "markdown",
      "metadata": {
        "id": "0rymzjgtKoa2"
      },
      "source": [
        "# Get the cluster lables and transform it to Integer"
      ]
    },
    {
      "cell_type": "code",
      "execution_count": null,
      "metadata": {
        "colab": {
          "background_save": true
        },
        "id": "E8rsHd82KMja"
      },
      "outputs": [],
      "source": [
        "labels = kmeans.labels_\n",
        "\n",
        "_, y_encoded = np.unique(y, return_inverse=True)"
      ]
    },
    {
      "cell_type": "markdown",
      "metadata": {
        "id": "LZVA1MhHKw9q"
      },
      "source": [
        "# Evaluate the models using ARI [Adjusted Rand Index]"
      ]
    },
    {
      "cell_type": "code",
      "execution_count": null,
      "metadata": {
        "colab": {
          "background_save": true,
          "base_uri": "https://localhost:8080/"
        },
        "id": "ghDk6sMvKwqB",
        "outputId": "41764989-41c7-45e4-97bb-610bfb915356"
      },
      "outputs": [
        {
          "name": "stdout",
          "output_type": "stream",
          "text": [
            "Adjusted Rand Index: -0.0003402517863218782\n"
          ]
        }
      ],
      "source": [
        "ari_score = adjusted_rand_score(y_encoded, labels)\n",
        "print(f\"Adjusted Rand Index: {ari_score}\")"
      ]
    },
    {
      "cell_type": "markdown",
      "metadata": {
        "id": "4O6V-ZpFK8Xb"
      },
      "source": [
        "# Result of the Cluster using Dataframe"
      ]
    },
    {
      "cell_type": "code",
      "execution_count": null,
      "metadata": {
        "colab": {
          "background_save": true,
          "base_uri": "https://localhost:8080/"
        },
        "id": "O4mL7zz7J7nJ",
        "outputId": "08df5500-0630-435b-c831-be86f0a00df8"
      },
      "outputs": [
        {
          "name": "stdout",
          "output_type": "stream",
          "text": [
            "   feature_1  feature_2  feature_3  feature_4  feature_5  feature_6  \\\n",
            "0  -1.325510   0.935916  -1.283532  -1.010057  -1.429708   1.688228   \n",
            "1   1.067059  -1.545052  -0.604755  -0.274248  -1.429708  -0.420530   \n",
            "2  -0.844122  -0.627094   2.318267   0.461562  -0.527743   0.148989   \n",
            "3   1.311345   1.026884  -0.806554  -0.791303  -1.048107   1.000701   \n",
            "4  -0.607021   0.017957   0.074022   1.495672  -1.429708  -0.307652   \n",
            "\n",
            "   feature_7  feature_8  feature_9  feature_10              career  cluster  \n",
            "0   0.094643   0.929447   1.161923   -0.453172          Accountant       40  \n",
            "1   2.100720   1.567791   0.330372   -0.527090    Graphic Designer       24  \n",
            "2  -0.075538   0.739669   0.507412    1.112546         Salesperson        4  \n",
            "3   0.496890   0.739669   1.939826    0.588400  Research Scientist       46  \n",
            "4  -0.188992   0.613150   0.029941    1.260382             Teacher       14  \n"
          ]
        }
      ],
      "source": [
        "df = pd.DataFrame(x_scaled, columns=[f'feature_{i+1}' for i in range(10)])\n",
        "df['career'] = y.values\n",
        "df['cluster'] = labels\n",
        "\n",
        "print(df.head())"
      ]
    },
    {
      "cell_type": "markdown",
      "metadata": {
        "id": "fk_W3LdKLDlZ"
      },
      "source": [
        "# Cluster unique code for each Career"
      ]
    },
    {
      "cell_type": "code",
      "execution_count": null,
      "metadata": {
        "colab": {
          "background_save": true,
          "base_uri": "https://localhost:8080/"
        },
        "id": "KXfnWgJZJmLJ",
        "outputId": "536e2042-3d14-4104-806e-e4106562251f"
      },
      "outputs": [
        {
          "name": "stdout",
          "output_type": "stream",
          "text": [
            "                                    career  cluster\n",
            "102                         Civil Engineer        0\n",
            "56                       Interior Designer        2\n",
            "49                      Wildlife Biologist        3\n",
            "42                               Zoologist        3\n",
            "2                              Salesperson        4\n",
            "104            Electronics Design Engineer        5\n",
            "98                  Administrative Officer        6\n",
            "80                        Database Analyst        7\n",
            "99                           Tax Collector        7\n",
            "25                   Marketing Coordinator        8\n",
            "21                 Environmental Scientist        9\n",
            "96                                Diplomat       10\n",
            "100                Foreign Service Officer       10\n",
            "14                   Construction Engineer       11\n",
            "26                     Biomedical Engineer       12\n",
            "9                                     Chef       13\n",
            "4                                  Teacher       14\n",
            "34       Software Quality Assurance Tester       15\n",
            "97                          Police Officer       16\n",
            "101  Customs and Border Protection Officer       16\n",
            "61                      Aerospace Engineer       17\n",
            "45                      Forensic Scientist       18\n",
            "57                      Physical Therapist       19\n",
            "73                       Genetic Counselor       19\n",
            "43                        Speech Therapist       19\n",
            "5                                Architect       20\n",
            "27                      Event Photographer       21\n",
            "19                           Event Planner       22\n",
            "48                           Web Developer       23\n",
            "1                         Graphic Designer       24\n",
            "92                          Tax Accountant       25\n",
            "54                           Airline Pilot       26\n",
            "6                                    Nurse       27\n",
            "77                       Investment Banker       28\n",
            "70                   Biomedical Researcher       29\n",
            "91                 Radiologic Technologist       30\n",
            "12                                  Artist       31\n",
            "39                                Musician       32\n",
            "72             Public Relations Specialist       33\n",
            "65                      IT Project Manager       34\n",
            "88                            Sports Coach       35\n",
            "30                           Social Worker       36\n",
            "8                             Psychologist       37\n",
            "37                 Market Research Analyst       38\n",
            "52                           Urban Planner       39\n",
            "0                               Accountant       40\n",
            "18                               Biologist       41\n",
            "7                       Software Developer       42\n",
            "84                         Product Manager       43\n",
            "22                                  Lawyer       44\n",
            "41                    Marketing Copywriter       45\n",
            "3                       Research Scientist       46\n",
            "17                       Financial Analyst       47\n",
            "29                              Pharmacist       48\n",
            "10                       Marketing Manager       49\n",
            "93               Quality Control Inspector       50\n",
            "40                        Police Detective       51\n",
            "63                   Advertising Executive       52\n",
            "51                          Game Developer       54\n",
            "55                  Environmental Engineer       55\n",
            "69                 Environmental Scientist       55\n",
            "13                 Human Resources Manager       56\n",
            "11                               Physician       57\n",
            "15                              Journalist       58\n",
            "44                     Mechanical Engineer       59\n",
            "74                       Market Researcher       60\n",
            "50                  Air Traffic Controller       61\n",
            "23                   IT Support Specialist       62\n",
            "59                        Dental Hygienist       64\n",
            "35               Elementary School Teacher       65\n",
            "20                       Real Estate Agent       66\n",
            "24                        Fashion Designer       67\n",
            "16                              Astronomer       68\n",
            "58                     Mechanical Designer       69\n",
            "62                         Pediatric Nurse       70\n",
            "94                Rehabilitation Counselor       70\n",
            "86                      Speech Pathologist       70\n",
            "68                      Marriage Counselor       72\n",
            "75                  Occupational Therapist       72\n",
            "53                       Financial Advisor       73\n",
            "81                            Pediatrician       75\n",
            "66                     Forestry Technician       76\n",
            "60                       Marketing Analyst       77\n",
            "47                               Geologist       78\n",
            "103                      Robotics Engineer       79\n",
            "85                         Fashion Stylist       80\n",
            "67                       Video Game Tester       80\n",
            "82                        Technical Writer       81\n",
            "38                       Financial Auditor       82\n",
            "71                  Database Administrator       83\n",
            "83                   Forensic Psychologist       84\n",
            "90                            Chiropractor       85\n",
            "46                    Social Media Manager       86\n",
            "87                   Public Health Analyst       88\n",
            "95                           Film Director       89\n",
            "78                        Marine Biologist       90\n",
            "76                     Electrical Engineer       91\n",
            "64                Wildlife Conservationist       92\n",
            "28                            Data Analyst       93\n",
            "89                   Insurance Underwriter       94\n",
            "31                       Financial Planner       95\n",
            "32                         Biotechnologist      100\n",
            "33                            HR Recruiter      101\n",
            "36                     Industrial Engineer      102\n",
            "79                     Human Rights Lawyer      103\n"
          ]
        }
      ],
      "source": [
        "pd.set_option('display.max_rows', 105)\n",
        "\n",
        "df_sorted = df[['career', 'cluster']].sort_values('cluster')\n",
        "\n",
        "print(df_sorted)"
      ]
    },
    {
      "cell_type": "markdown",
      "metadata": {
        "id": "oihjmduYkLgi"
      },
      "source": [
        "# **Testing the models**"
      ]
    },
    {
      "cell_type": "code",
      "execution_count": null,
      "metadata": {
        "colab": {
          "background_save": true
        },
        "id": "CN3V0alXXyv2"
      },
      "outputs": [],
      "source": [
        "def predict_career(new_inputs):\n",
        "    new_inputs_scaled = scaler.transform(new_inputs)\n",
        "    encoded_features = encoder.predict(new_inputs_scaled)\n",
        "    cluster_labels = kmeans.predict(encoded_features)\n",
        "    return cluster_labels"
      ]
    },
    {
      "cell_type": "code",
      "execution_count": null,
      "metadata": {
        "colab": {
          "background_save": true
        },
        "id": "Fd3Thwz2yJtX"
      },
      "outputs": [],
      "source": [
        "def map_cluster_to_career(cluster_label):\n",
        "    cluster_to_career_map = {}\n",
        "    for cluster, career in df_sorted.groupby('cluster')['career']:\n",
        "        cluster_to_career_map[cluster] = career.iloc[0]\n",
        "    return cluster_to_career_map.get(cluster_label, 'Unknown')"
      ]
    },
    {
      "cell_type": "code",
      "execution_count": null,
      "metadata": {
        "colab": {
          "background_save": true,
          "base_uri": "https://localhost:8080/"
        },
        "id": "j3Hy5_arkKaz",
        "outputId": "46171e8a-002d-4757-8400-0f7c52af74fa"
      },
      "outputs": [
        {
          "name": "stdout",
          "output_type": "stream",
          "text": [
            "1/1 [==============================] - 0s 54ms/step\n"
          ]
        },
        {
          "name": "stderr",
          "output_type": "stream",
          "text": [
            "/usr/local/lib/python3.10/dist-packages/sklearn/base.py:439: UserWarning: X does not have valid feature names, but StandardScaler was fitted with feature names\n",
            "  warnings.warn(\n"
          ]
        },
        {
          "name": "stdout",
          "output_type": "stream",
          "text": [
            "Predicted career: Construction Engineer\n"
          ]
        }
      ],
      "source": [
        "new_inputs = np.array([[1.78, 2.45, 2.45, 5.67, 3.56, 4.00, 6.00, 1.00, 6.00, 1.00]])\n",
        "predicted_cluster = predict_career(new_inputs)[0]\n",
        "predicted_career = map_cluster_to_career(predicted_cluster)\n",
        "print(f\"Predicted career: {predicted_career}\")"
      ]
    },
    {
      "cell_type": "markdown",
      "metadata": {
        "id": "wMHmHz7wjexK"
      },
      "source": [
        "# **Saving the Models**"
      ]
    },
    {
      "cell_type": "code",
      "execution_count": null,
      "metadata": {
        "colab": {
          "background_save": true
        },
        "id": "6xYV42HtJmDa"
      },
      "outputs": [],
      "source": [
        "def save_model(model, filename):\n",
        "    model.save(filename)"
      ]
    },
    {
      "cell_type": "code",
      "execution_count": null,
      "metadata": {
        "colab": {
          "background_save": true,
          "base_uri": "https://localhost:8080/",
          "height": 446
        },
        "id": "1nnCDXqPvtuh",
        "outputId": "3f66d8bc-0d75-4455-f9cf-bb6203e691ea"
      },
      "outputs": [
        {
          "name": "stdout",
          "output_type": "stream",
          "text": [
            "Model: \"model\"\n",
            "_________________________________________________________________\n",
            " Layer (type)                Output Shape              Param #   \n",
            "=================================================================\n",
            " input_2 (InputLayer)        [(None, 10)]              0         \n",
            "                                                                 \n",
            " reshape_1 (Reshape)         (None, 10, 1)             0         \n",
            "                                                                 \n",
            " conv1d_1 (Conv1D)           (None, 8, 32)             128       \n",
            "                                                                 \n",
            " max_pooling1d_1 (MaxPoolin  (None, 4, 32)             0         \n",
            " g1D)                                                            \n",
            "                                                                 \n",
            " flatten_1 (Flatten)         (None, 128)               0         \n",
            "                                                                 \n",
            " dense_2 (Dense)             (None, 64)                8256      \n",
            "                                                                 \n",
            " dense_3 (Dense)             (None, 10)                650       \n",
            "                                                                 \n",
            "=================================================================\n",
            "Total params: 9034 (35.29 KB)\n",
            "Trainable params: 9034 (35.29 KB)\n",
            "Non-trainable params: 0 (0.00 Byte)\n",
            "_________________________________________________________________\n"
          ]
        },
        {
          "name": "stderr",
          "output_type": "stream",
          "text": [
            "/usr/local/lib/python3.10/dist-packages/keras/src/engine/training.py:3103: UserWarning: You are saving your model as an HDF5 file via `model.save()`. This file format is considered legacy. We recommend using instead the native Keras format, e.g. `model.save('my_model.keras')`.\n",
            "  saving_api.save_model(\n"
          ]
        },
        {
          "name": "stdout",
          "output_type": "stream",
          "text": [
            "Model saved to career_prediction.h5\n"
          ]
        }
      ],
      "source": [
        "model.summary()\n",
        "save_model(model, 'career_prediction.h5')\n",
        "\n",
        "print(\"Model saved to career_prediction.h5\")"
      ]
    },
    {
      "cell_type": "code",
      "execution_count": null,
      "metadata": {
        "colab": {
          "background_save": true,
          "base_uri": "https://localhost:8080/",
          "height": 361
        },
        "id": "284gijae3ciE",
        "outputId": "a9ccae42-e556-4093-b9d0-5525f791f141"
      },
      "outputs": [
        {
          "name": "stdout",
          "output_type": "stream",
          "text": [
            "Model: \"model_1\"\n",
            "_________________________________________________________________\n",
            " Layer (type)                Output Shape              Param #   \n",
            "=================================================================\n",
            " input_2 (InputLayer)        [(None, 10)]              0         \n",
            "                                                                 \n",
            " reshape_1 (Reshape)         (None, 10, 1)             0         \n",
            "                                                                 \n",
            " conv1d_1 (Conv1D)           (None, 8, 32)             128       \n",
            "                                                                 \n",
            " max_pooling1d_1 (MaxPoolin  (None, 4, 32)             0         \n",
            " g1D)                                                            \n",
            "                                                                 \n",
            " flatten_1 (Flatten)         (None, 128)               0         \n",
            "                                                                 \n",
            "=================================================================\n",
            "Total params: 128 (512.00 Byte)\n",
            "Trainable params: 128 (512.00 Byte)\n",
            "Non-trainable params: 0 (0.00 Byte)\n",
            "_________________________________________________________________\n"
          ]
        },
        {
          "name": "stderr",
          "output_type": "stream",
          "text": [
            "WARNING:tensorflow:Compiled the loaded model, but the compiled metrics have yet to be built. `model.compile_metrics` will be empty until you train or evaluate the model.\n"
          ]
        },
        {
          "name": "stdout",
          "output_type": "stream",
          "text": [
            "Model saved to encoder_career_prediction.h5\n"
          ]
        }
      ],
      "source": [
        "encoder.summary()\n",
        "save_model(encoder, 'encoder_career_prediction.h5')\n",
        "\n",
        "print(\"Model saved to encoder_career_prediction.h5\")"
      ]
    }
  ],
  "metadata": {
    "accelerator": "GPU",
    "colab": {
      "gpuType": "T4",
      "provenance": []
    },
    "kernelspec": {
      "display_name": "Python 3",
      "name": "python3"
    },
    "language_info": {
      "name": "python"
    }
  },
  "nbformat": 4,
  "nbformat_minor": 0
}